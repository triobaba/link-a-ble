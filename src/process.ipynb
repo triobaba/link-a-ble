{
 "cells": [
  {
   "cell_type": "code",
   "execution_count": 12,
   "metadata": {},
   "outputs": [],
   "source": [
    "import pandas as pd"
   ]
  },
  {
   "cell_type": "code",
   "execution_count": null,
   "metadata": {},
   "outputs": [],
   "source": []
  },
  {
   "cell_type": "code",
   "execution_count": null,
   "metadata": {},
   "outputs": [],
   "source": []
  },
  {
   "cell_type": "code",
   "execution_count": 12,
   "metadata": {},
   "outputs": [
    {
     "name": "stdout",
     "output_type": "stream",
     "text": [
      "Processed data saved to preprocessed_data.csv\n"
     ]
    }
   ],
   "source": [
    "import pandas as pd\n",
    "import os\n",
    "\n",
    "def preprocess_text(text, chunk_size=100):\n",
    "    # Remove leading/trailing whitespace\n",
    "    text = text.strip()\n",
    "    # Split the text into words\n",
    "    words = text.split()\n",
    "    # Break down the text into chunks of chunk_size words\n",
    "    chunks = [' '.join(words[i:i + chunk_size]) for i in range(0, len(words), chunk_size)]\n",
    "    return chunks\n",
    "\n",
    "def process_csv(input_file_path, chunk_size=100):\n",
    "    # Load the CSV file\n",
    "    data = pd.read_csv(input_file_path)\n",
    "\n",
    "    # Apply the preprocessing function to the text column\n",
    "    data['cleaned_text'] = data['text'].apply(lambda x: preprocess_text(x, chunk_size))\n",
    "\n",
    "    # Create a new DataFrame with each chunk of text and its respective URL\n",
    "    processed_data = []\n",
    "    for index, row in data.iterrows():\n",
    "        for chunk in row['cleaned_text']:\n",
    "            processed_data.append([chunk, row['url'],row ['title']])\n",
    "    \n",
    "    # Convert the list to a DataFrame\n",
    "    processed_df = pd.DataFrame(processed_data, columns=['text_chunk', 'url', 'title'])\n",
    "\n",
    "    # Determine the output file path\n",
    "    output_file_path = os.path.join(os.path.dirname(input_file_path), 'preprocessed_data.csv')\n",
    "\n",
    "    # Save the processed DataFrame to the output CSV file\n",
    "    processed_df.to_csv(output_file_path, index=False)\n",
    "\n",
    "    print(f\"Processed data saved to {output_file_path}\")\n",
    "\n",
    "# Example usage\n",
    "input_file_path = 'results1.3.csv'  # Replace with your input file path\n",
    "process_csv(input_file_path, chunk_size=100)"
   ]
  },
  {
   "cell_type": "code",
   "execution_count": 5,
   "metadata": {},
   "outputs": [],
   "source": [
    "df1=pd.read_csv('preprocessed_data_cleaned.csv')"
   ]
  },
  {
   "cell_type": "code",
   "execution_count": 6,
   "metadata": {},
   "outputs": [
    {
     "data": {
      "text/html": [
       "<div>\n",
       "<style scoped>\n",
       "    .dataframe tbody tr th:only-of-type {\n",
       "        vertical-align: middle;\n",
       "    }\n",
       "\n",
       "    .dataframe tbody tr th {\n",
       "        vertical-align: top;\n",
       "    }\n",
       "\n",
       "    .dataframe thead th {\n",
       "        text-align: right;\n",
       "    }\n",
       "</style>\n",
       "<table border=\"1\" class=\"dataframe\">\n",
       "  <thead>\n",
       "    <tr style=\"text-align: right;\">\n",
       "      <th></th>\n",
       "      <th>text_chunk</th>\n",
       "      <th>url</th>\n",
       "    </tr>\n",
       "  </thead>\n",
       "  <tbody>\n",
       "    <tr>\n",
       "      <th>count</th>\n",
       "      <td>1562</td>\n",
       "      <td>1562</td>\n",
       "    </tr>\n",
       "    <tr>\n",
       "      <th>unique</th>\n",
       "      <td>1559</td>\n",
       "      <td>452</td>\n",
       "    </tr>\n",
       "    <tr>\n",
       "      <th>top</th>\n",
       "      <td>marketing automation archives notifyvisitors b...</td>\n",
       "      <td>https://www.notifyvisitors.com/blog/dropshipping/</td>\n",
       "    </tr>\n",
       "    <tr>\n",
       "      <th>freq</th>\n",
       "      <td>2</td>\n",
       "      <td>23</td>\n",
       "    </tr>\n",
       "  </tbody>\n",
       "</table>\n",
       "</div>"
      ],
      "text/plain": [
       "                                               text_chunk  \\\n",
       "count                                                1562   \n",
       "unique                                               1559   \n",
       "top     marketing automation archives notifyvisitors b...   \n",
       "freq                                                    2   \n",
       "\n",
       "                                                      url  \n",
       "count                                                1562  \n",
       "unique                                                452  \n",
       "top     https://www.notifyvisitors.com/blog/dropshipping/  \n",
       "freq                                                   23  "
      ]
     },
     "execution_count": 6,
     "metadata": {},
     "output_type": "execute_result"
    }
   ],
   "source": [
    "df1.describe()"
   ]
  },
  {
   "cell_type": "code",
   "execution_count": 7,
   "metadata": {},
   "outputs": [
    {
     "data": {
      "text/html": [
       "<div>\n",
       "<style scoped>\n",
       "    .dataframe tbody tr th:only-of-type {\n",
       "        vertical-align: middle;\n",
       "    }\n",
       "\n",
       "    .dataframe tbody tr th {\n",
       "        vertical-align: top;\n",
       "    }\n",
       "\n",
       "    .dataframe thead th {\n",
       "        text-align: right;\n",
       "    }\n",
       "</style>\n",
       "<table border=\"1\" class=\"dataframe\">\n",
       "  <thead>\n",
       "    <tr style=\"text-align: right;\">\n",
       "      <th></th>\n",
       "      <th>text_chunk</th>\n",
       "      <th>url</th>\n",
       "    </tr>\n",
       "  </thead>\n",
       "  <tbody>\n",
       "    <tr>\n",
       "      <th>0</th>\n",
       "      <td>blog posts archive hive work all using hive pr...</td>\n",
       "      <td>https://hive.com/blog/</td>\n",
       "    </tr>\n",
       "    <tr>\n",
       "      <th>1</th>\n",
       "      <td>know the secrets of email marketing automation...</td>\n",
       "      <td>https://www.notifyvisitors.com/blog/</td>\n",
       "    </tr>\n",
       "    <tr>\n",
       "      <th>2</th>\n",
       "      <td>how mckinney health uses hive to manage comple...</td>\n",
       "      <td>https://hive.com/blog/how-mckinney-health-uses...</td>\n",
       "    </tr>\n",
       "    <tr>\n",
       "      <th>3</th>\n",
       "      <td>the best content calendar template for marketi...</td>\n",
       "      <td>https://hive.com/blog/content-calendar-template/</td>\n",
       "    </tr>\n",
       "    <tr>\n",
       "      <th>4</th>\n",
       "      <td>the marketing strategy strengthen collaboratio...</td>\n",
       "      <td>https://hive.com/blog/content-calendar-template/</td>\n",
       "    </tr>\n",
       "  </tbody>\n",
       "</table>\n",
       "</div>"
      ],
      "text/plain": [
       "                                          text_chunk  \\\n",
       "0  blog posts archive hive work all using hive pr...   \n",
       "1  know the secrets of email marketing automation...   \n",
       "2  how mckinney health uses hive to manage comple...   \n",
       "3  the best content calendar template for marketi...   \n",
       "4  the marketing strategy strengthen collaboratio...   \n",
       "\n",
       "                                                 url  \n",
       "0                             https://hive.com/blog/  \n",
       "1               https://www.notifyvisitors.com/blog/  \n",
       "2  https://hive.com/blog/how-mckinney-health-uses...  \n",
       "3   https://hive.com/blog/content-calendar-template/  \n",
       "4   https://hive.com/blog/content-calendar-template/  "
      ]
     },
     "execution_count": 7,
     "metadata": {},
     "output_type": "execute_result"
    }
   ],
   "source": [
    "df1.head()"
   ]
  },
  {
   "cell_type": "code",
   "execution_count": 35,
   "metadata": {},
   "outputs": [
    {
     "data": {
      "text/html": [
       "<div>\n",
       "<style scoped>\n",
       "    .dataframe tbody tr th:only-of-type {\n",
       "        vertical-align: middle;\n",
       "    }\n",
       "\n",
       "    .dataframe tbody tr th {\n",
       "        vertical-align: top;\n",
       "    }\n",
       "\n",
       "    .dataframe thead th {\n",
       "        text-align: right;\n",
       "    }\n",
       "</style>\n",
       "<table border=\"1\" class=\"dataframe\">\n",
       "  <thead>\n",
       "    <tr style=\"text-align: right;\">\n",
       "      <th></th>\n",
       "      <th>text_chunk</th>\n",
       "      <th>url</th>\n",
       "    </tr>\n",
       "  </thead>\n",
       "  <tbody>\n",
       "    <tr>\n",
       "      <th>count</th>\n",
       "      <td>1562</td>\n",
       "      <td>1562</td>\n",
       "    </tr>\n",
       "    <tr>\n",
       "      <th>unique</th>\n",
       "      <td>1559</td>\n",
       "      <td>452</td>\n",
       "    </tr>\n",
       "    <tr>\n",
       "      <th>top</th>\n",
       "      <td>marketing automation archives notifyvisitors b...</td>\n",
       "      <td>https://www.notifyvisitors.com/blog/dropshipping/</td>\n",
       "    </tr>\n",
       "    <tr>\n",
       "      <th>freq</th>\n",
       "      <td>2</td>\n",
       "      <td>23</td>\n",
       "    </tr>\n",
       "  </tbody>\n",
       "</table>\n",
       "</div>"
      ],
      "text/plain": [
       "                                               text_chunk  \\\n",
       "count                                                1562   \n",
       "unique                                               1559   \n",
       "top     marketing automation archives notifyvisitors b...   \n",
       "freq                                                    2   \n",
       "\n",
       "                                                      url  \n",
       "count                                                1562  \n",
       "unique                                                452  \n",
       "top     https://www.notifyvisitors.com/blog/dropshipping/  \n",
       "freq                                                   23  "
      ]
     },
     "execution_count": 35,
     "metadata": {},
     "output_type": "execute_result"
    }
   ],
   "source": [
    "df1.describe()"
   ]
  },
  {
   "cell_type": "code",
   "execution_count": 36,
   "metadata": {},
   "outputs": [
    {
     "data": {
      "text/plain": [
       "(1562, 2)"
      ]
     },
     "execution_count": 36,
     "metadata": {},
     "output_type": "execute_result"
    }
   ],
   "source": [
    "\n",
    "df1.shape"
   ]
  },
  {
   "cell_type": "code",
   "execution_count": null,
   "metadata": {},
   "outputs": [],
   "source": []
  },
  {
   "cell_type": "code",
   "execution_count": 9,
   "metadata": {},
   "outputs": [
    {
     "data": {
      "text/plain": [
       "Index           132\n",
       "text_chunk    12496\n",
       "url           12496\n",
       "dtype: int64"
      ]
     },
     "execution_count": 9,
     "metadata": {},
     "output_type": "execute_result"
    }
   ],
   "source": [
    "df1.memory_usage()"
   ]
  },
  {
   "cell_type": "code",
   "execution_count": 21,
   "metadata": {},
   "outputs": [
    {
     "name": "stdout",
     "output_type": "stream",
     "text": [
      "[213, 310, 35, 517, 515, 520, 521, 15, 517, 517, 517, 334, 553, 540, 376, 516, 564, 539, 547, 532, 108, 526, 535, 323, 448, 543, 531, 542, 244, 448, 516, 520, 508, 513, 201, 566, 550, 575, 538, 391, 448, 524, 531, 534, 42, 448, 532, 541, 57, 445, 531, 537, 534, 503, 552, 408, 448, 531, 522, 517, 118, 560, 544, 532, 512, 518, 521, 429, 514, 519, 209, 511, 523, 318, 540, 536, 494, 537, 544, 528, 526, 519, 528, 511, 346, 535, 539, 535, 508, 354, 514, 284, 519, 518, 210, 535, 353, 515, 540, 540, 538, 537, 291, 535, 538, 31, 530, 525, 92, 526, 529, 127, 524, 516, 139, 517, 521, 522, 92, 516, 547, 534, 557, 545, 568, 542, 538, 560, 553, 544, 538, 549, 214, 517, 541, 557, 537, 543, 428, 545, 573, 557, 546, 483, 517, 510, 514, 282, 518, 512, 381, 289, 540, 545, 372, 541, 424, 517, 526, 50, 532, 444, 519, 350, 540, 533, 534, 530, 476, 367, 448, 448, 258, 450, 284, 202, 489, 569, 29, 530, 204, 449, 445, 315, 503, 508, 511, 514, 72, 518, 512, 523, 538, 517, 165, 512, 513, 390, 512, 522, 521, 341, 448, 568, 548, 546, 545, 92, 515, 508, 510, 153, 447, 511, 511, 197, 510, 535, 516, 233, 512, 517, 508, 511, 223, 521, 522, 515, 351, 510, 509, 289, 446, 521, 513, 516, 519, 104, 518, 514, 505, 502, 503, 503, 243, 530, 377, 520, 518, 227, 558, 543, 111, 448, 446, 539, 543, 523, 492, 513, 521, 512, 518, 518, 37, 514, 311, 526, 517, 526, 537, 242, 525, 523, 538, 267, 545, 559, 303, 530, 520, 524, 524, 543, 532, 206, 533, 559, 534, 47, 507, 508, 518, 501, 557, 335, 518, 507, 513, 362, 446, 541, 531, 535, 57, 516, 503, 506, 515, 508, 393, 505, 517, 513, 507, 246, 524, 298, 513, 514, 520, 270, 516, 507, 506, 381, 516, 523, 510, 324, 511, 511, 516, 111, 539, 545, 550, 327, 531, 563, 317, 515, 510, 519, 22, 509, 506, 509, 99, 526, 536, 288, 525, 528, 516, 185, 505, 483, 520, 508, 106, 446, 510, 333, 484, 513, 410, 448, 544, 565, 546, 514, 506, 474, 528, 513, 523, 367, 504, 509, 508, 513, 515, 27, 505, 521, 523, 245, 519, 550, 521, 535, 546, 557, 309, 519, 527, 328, 509, 520, 313, 523, 544, 570, 549, 104, 511, 517, 500, 524, 514, 517, 273, 519, 531, 525, 527, 298, 543, 551, 539, 517, 527, 505, 514, 516, 415, 535, 545, 536, 541, 524, 167, 520, 539, 531, 537, 529, 100, 508, 531, 534, 539, 549, 435, 510, 440, 525, 275, 444, 522, 513, 6, 531, 258, 529, 526, 67, 510, 516, 519, 518, 47, 530, 514, 368, 544, 538, 201, 515, 519, 309, 524, 526, 264, 508, 521, 539, 529, 529, 165, 512, 520, 507, 520, 530, 513, 522, 154, 519, 508, 193, 517, 352, 541, 526, 62, 517, 510, 468, 518, 551, 555, 558, 525, 104, 545, 466, 533, 451, 530, 525, 105, 511, 513, 523, 17, 523, 460, 515, 430, 523, 481, 529, 524, 535, 530, 531, 546, 527, 330, 505, 521, 506, 303, 515, 512, 480, 512, 516, 450, 530, 526, 510, 106, 507, 521, 513, 514, 247, 447, 502, 523, 140, 508, 394, 512, 452, 523, 539, 540, 526, 88, 446, 508, 523, 19, 534, 259, 515, 525, 523, 212, 519, 525, 437, 516, 516, 380, 510, 515, 100, 522, 519, 166, 523, 529, 472, 446, 516, 522, 8, 447, 517, 118, 515, 532, 5, 511, 528, 274, 519, 269, 516, 301, 509, 545, 522, 519, 520, 516, 68, 521, 535, 466, 515, 36, 515, 312, 506, 515, 324, 512, 515, 489, 518, 523, 92, 519, 521, 311, 447, 498, 448, 509, 101, 521, 514, 50, 528, 519, 410, 497, 515, 532, 157, 515, 536, 521, 524, 520, 514, 45, 517, 513, 508, 40, 537, 545, 556, 547, 1, 506, 511, 509, 64, 448, 553, 534, 557, 537, 548, 542, 530, 530, 532, 164, 511, 522, 515, 511, 519, 516, 516, 35, 502, 505, 127, 506, 510, 513, 194, 508, 512, 510, 269, 503, 511, 512, 80, 509, 514, 522, 262, 524, 514, 506, 313, 525, 535, 528, 43, 508, 508, 523, 453, 539, 561, 546, 550, 275, 449, 516, 514, 516, 338, 509, 523, 514, 364, 528, 532, 509, 369, 513, 519, 516, 357, 508, 509, 327, 513, 515, 517, 401, 527, 538, 541, 405, 509, 523, 360, 552, 550, 13, 511, 509, 85, 521, 525, 514, 75, 524, 439, 507, 504, 509, 89, 533, 532, 495, 523, 343, 542, 544, 536, 271, 551, 554, 537, 498, 538, 540, 555, 536, 522, 539, 71, 511, 521, 533, 530, 326, 507, 522, 275, 525, 524, 534, 333, 515, 504, 148, 520, 519, 515, 525, 517, 515, 441, 445, 531, 526, 392, 520, 253, 516, 528, 512, 4, 530, 354, 514, 515, 524, 10, 534, 534, 120, 508, 514, 514, 185, 537, 521, 530, 103, 534, 520, 131, 526, 544, 205, 510, 516, 97, 449, 513, 510, 510, 172, 508, 374, 510, 515, 517, 11, 522, 514, 546, 358, 526, 525, 526, 528, 2, 517, 511, 520, 529, 192, 507, 508, 505, 148, 516, 546, 515, 22, 521, 522, 516, 514, 516, 524, 26, 537, 538, 538, 287, 501, 509, 516, 102, 512, 514, 425, 510, 507, 507, 313, 556, 529, 261, 507, 509, 512, 32, 505, 507, 512, 518, 396, 508, 515, 525, 511, 524, 514, 513, 118, 539, 528, 555, 451, 525, 511, 513, 160, 504, 516, 351, 365, 449, 527, 514, 544, 131, 521, 541, 517, 297, 536, 30, 520, 548, 31, 525, 515, 509, 507, 460, 515, 528, 210, 530, 544, 553, 532, 103, 448, 511, 512, 529, 247, 559, 549, 553, 559, 538, 540, 217, 515, 517, 133, 550, 560, 545, 405, 558, 570, 546, 146, 520, 515, 415, 543, 542, 539, 524, 618, 287, 555, 553, 487, 531, 527, 519, 197, 541, 528, 189, 528, 515, 512, 525, 524, 74, 533, 550, 526, 134, 504, 528, 192, 545, 531, 338, 446, 511, 520, 537, 19, 516, 510, 529, 522, 124, 507, 514, 509, 77, 505, 515, 353, 520, 515, 544, 107, 505, 511, 520, 520, 177, 103, 524, 518, 507, 523, 543, 265, 512, 528, 107, 502, 510, 523, 513, 102, 515, 516, 517, 35, 537, 535, 533, 397, 507, 508, 503, 508, 507, 44, 530, 533, 547, 426, 501, 535, 410, 511, 519, 478, 519, 536, 509, 281, 524, 518, 534, 524, 195, 513, 518, 527, 518, 73, 512, 512, 515, 199, 536, 541, 407, 510, 161, 448, 511, 167, 559, 541, 557, 368, 522, 528, 53, 526, 542, 49, 509, 509, 528, 136, 446, 511, 509, 138, 508, 520, 276, 569, 536, 525, 546, 531, 536, 552, 524, 529, 522, 525, 516, 532, 549, 573, 562, 548, 564, 528, 542, 532, 531, 131, 528, 516, 170, 519, 532, 322, 508, 514, 514, 127, 507, 512, 525, 519, 480, 535, 542, 535, 131, 508, 506, 407, 531, 535, 536, 453, 524, 538, 527, 97, 511, 514, 514, 453, 531, 474, 448, 509, 513, 59, 507, 516, 520, 82, 508, 507, 85, 517, 525, 536, 392, 515, 515, 514, 521, 113, 514, 507, 153, 510, 392, 531, 524, 545, 380, 525, 175, 503, 306, 507, 512, 521, 36, 511, 392, 51, 502, 286, 505, 152, 511, 317, 448, 449, 50, 54, 163, 506, 321, 543, 560, 552, 553, 312, 544, 551, 65, 536, 545, 280, 547, 544, 254, 446, 515, 514, 523, 521, 527, 528, 476, 509, 507, 420, 537, 524, 533, 88, 513, 512, 341, 517, 518, 324, 518, 75, 548, 532, 122, 557, 551, 548, 567, 2, 542, 545, 523, 45, 524, 542, 391, 525, 531, 513, 518, 512, 397, 540, 530, 541, 400, 532, 528, 521, 46, 523, 523, 507, 96, 534, 538, 218, 512, 514, 505, 555, 555, 549, 553, 63, 557, 547, 559, 98, 559, 568, 545, 569, 28, 540, 530, 554, 458, 558, 540, 545, 286, 553, 557, 556, 371, 545, 564, 378, 570, 562, 564, 135, 555, 562, 549, 238, 558, 557, 556, 381, 559, 551, 517, 568, 555, 545, 561, 55, 526, 550, 538, 526, 33, 521, 543, 525, 518, 42, 505, 522, 292, 536, 418, 550, 538, 546, 576, 541, 547, 97, 511, 523, 523, 543, 532, 528, 530, 540, 540, 86, 533, 527, 534, 548, 481, 524, 528, 540, 309, 527, 560, 529, 531, 555, 237, 505, 528, 543, 562, 541, 538, 514, 515, 37, 513, 514, 526, 530, 538, 536, 163, 509, 530, 539, 533, 534, 544, 299, 527, 540, 566, 568, 568, 562, 169, 514, 524, 533, 549, 541, 551, 561, 543, 534, 540, 38, 534, 297, 523, 548, 560, 540, 543, 553, 454, 515, 539, 547, 548, 536, 540, 551, 527, 539, 57, 536, 559, 544, 550, 552, 536, 522, 382, 515, 526, 526, 510, 22, 545, 552, 538, 530, 551, 537, 545, 321, 503, 514, 15, 517, 515, 360, 520, 509, 516, 508, 473, 512, 450, 520, 532, 540, 546, 521, 538, 537, 18, 522, 521, 520, 208, 535, 533, 134, 522, 515, 515, 456, 559, 549, 551, 517, 514, 512, 515, 103, 506, 514, 498, 509, 515, 515, 531, 49, 524, 529, 528, 326, 510, 516, 519, 531, 516, 256, 556, 470, 515, 512, 515, 25, 508, 240, 448]\n"
     ]
    }
   ],
   "source": [
    "import tiktoken\n",
    "\n",
    "def num_tokens_from_string(df1,text_chunk,encoding_name):\n",
    "    \"\"\"Returns the number of tokens in a text string.\"\"\"\n",
    "   \n",
    "    num_tokens_list= []\n",
    "    for text in df1[text_chunk]:\n",
    "\n",
    "        encoding = tiktoken.get_encoding(encoding_name)\n",
    "        tokens= encoding.encode(text)\n",
    "        num_token= len(tokens)\n",
    "        num_tokens_list.append(num_token)\n",
    "    return num_tokens_list\n",
    "    \n",
    "\n",
    "num_tokens_list = num_tokens_from_string(df1, 'text_chunk', \"cl100k_base\")\n",
    "\n",
    "print(num_tokens_list)"
   ]
  },
  {
   "cell_type": "code",
   "execution_count": 23,
   "metadata": {},
   "outputs": [],
   "source": [
    "df2=pd.DataFrame(num_tokens_list, columns=['num_tokens'])"
   ]
  },
  {
   "cell_type": "code",
   "execution_count": 34,
   "metadata": {},
   "outputs": [
    {
     "data": {
      "text/plain": [
       "num_tokens    708177\n",
       "dtype: int64"
      ]
     },
     "execution_count": 34,
     "metadata": {},
     "output_type": "execute_result"
    }
   ],
   "source": [
    "df2.sum()"
   ]
  },
  {
   "cell_type": "code",
   "execution_count": null,
   "metadata": {},
   "outputs": [],
   "source": []
  },
  {
   "cell_type": "code",
   "execution_count": 75,
   "metadata": {},
   "outputs": [],
   "source": [
    "df2=pd.read_csv(\"text_with_embeddings.csv\")"
   ]
  },
  {
   "cell_type": "code",
   "execution_count": 76,
   "metadata": {},
   "outputs": [
    {
     "data": {
      "text/html": [
       "<div>\n",
       "<style scoped>\n",
       "    .dataframe tbody tr th:only-of-type {\n",
       "        vertical-align: middle;\n",
       "    }\n",
       "\n",
       "    .dataframe tbody tr th {\n",
       "        vertical-align: top;\n",
       "    }\n",
       "\n",
       "    .dataframe thead th {\n",
       "        text-align: right;\n",
       "    }\n",
       "</style>\n",
       "<table border=\"1\" class=\"dataframe\">\n",
       "  <thead>\n",
       "    <tr style=\"text-align: right;\">\n",
       "      <th></th>\n",
       "      <th>Unnamed: 0</th>\n",
       "      <th>text_chunk</th>\n",
       "      <th>url</th>\n",
       "      <th>embeddings</th>\n",
       "    </tr>\n",
       "  </thead>\n",
       "  <tbody>\n",
       "    <tr>\n",
       "      <th>0</th>\n",
       "      <td>0</td>\n",
       "      <td>blog posts archive hive work all using hive pr...</td>\n",
       "      <td>https://hive.com/blog/</td>\n",
       "      <td>[0.02567603625357151, 0.027387771755456924, 0....</td>\n",
       "    </tr>\n",
       "    <tr>\n",
       "      <th>1</th>\n",
       "      <td>1</td>\n",
       "      <td>know the secrets of email marketing automation...</td>\n",
       "      <td>https://www.notifyvisitors.com/blog/</td>\n",
       "      <td>[-0.0066526769660413265, 0.0397762730717659, 0...</td>\n",
       "    </tr>\n",
       "    <tr>\n",
       "      <th>2</th>\n",
       "      <td>2</td>\n",
       "      <td>how mckinney health uses hive to manage comple...</td>\n",
       "      <td>https://hive.com/blog/how-mckinney-health-uses...</td>\n",
       "      <td>[-0.003282790305092931, 0.024706317111849785, ...</td>\n",
       "    </tr>\n",
       "    <tr>\n",
       "      <th>3</th>\n",
       "      <td>3</td>\n",
       "      <td>the best content calendar template for marketi...</td>\n",
       "      <td>https://hive.com/blog/content-calendar-template/</td>\n",
       "      <td>[0.012846430763602257, 0.020620401948690414, 0...</td>\n",
       "    </tr>\n",
       "    <tr>\n",
       "      <th>4</th>\n",
       "      <td>4</td>\n",
       "      <td>the marketing strategy strengthen collaboratio...</td>\n",
       "      <td>https://hive.com/blog/content-calendar-template/</td>\n",
       "      <td>[0.042479731142520905, 0.029530702158808708, 0...</td>\n",
       "    </tr>\n",
       "  </tbody>\n",
       "</table>\n",
       "</div>"
      ],
      "text/plain": [
       "   Unnamed: 0                                         text_chunk  \\\n",
       "0           0  blog posts archive hive work all using hive pr...   \n",
       "1           1  know the secrets of email marketing automation...   \n",
       "2           2  how mckinney health uses hive to manage comple...   \n",
       "3           3  the best content calendar template for marketi...   \n",
       "4           4  the marketing strategy strengthen collaboratio...   \n",
       "\n",
       "                                                 url  \\\n",
       "0                             https://hive.com/blog/   \n",
       "1               https://www.notifyvisitors.com/blog/   \n",
       "2  https://hive.com/blog/how-mckinney-health-uses...   \n",
       "3   https://hive.com/blog/content-calendar-template/   \n",
       "4   https://hive.com/blog/content-calendar-template/   \n",
       "\n",
       "                                          embeddings  \n",
       "0  [0.02567603625357151, 0.027387771755456924, 0....  \n",
       "1  [-0.0066526769660413265, 0.0397762730717659, 0...  \n",
       "2  [-0.003282790305092931, 0.024706317111849785, ...  \n",
       "3  [0.012846430763602257, 0.020620401948690414, 0...  \n",
       "4  [0.042479731142520905, 0.029530702158808708, 0...  "
      ]
     },
     "execution_count": 76,
     "metadata": {},
     "output_type": "execute_result"
    }
   ],
   "source": [
    "df2.head()"
   ]
  },
  {
   "cell_type": "code",
   "execution_count": 78,
   "metadata": {},
   "outputs": [
    {
     "data": {
      "text/plain": [
       "dtype('O')"
      ]
     },
     "execution_count": 78,
     "metadata": {},
     "output_type": "execute_result"
    }
   ],
   "source": [
    "df2['embeddings'].dtype"
   ]
  },
  {
   "cell_type": "code",
   "execution_count": 58,
   "metadata": {},
   "outputs": [
    {
     "data": {
      "text/html": [
       "<div>\n",
       "<style scoped>\n",
       "    .dataframe tbody tr th:only-of-type {\n",
       "        vertical-align: middle;\n",
       "    }\n",
       "\n",
       "    .dataframe tbody tr th {\n",
       "        vertical-align: top;\n",
       "    }\n",
       "\n",
       "    .dataframe thead th {\n",
       "        text-align: right;\n",
       "    }\n",
       "</style>\n",
       "<table border=\"1\" class=\"dataframe\">\n",
       "  <thead>\n",
       "    <tr style=\"text-align: right;\">\n",
       "      <th></th>\n",
       "      <th>Unnamed: 0</th>\n",
       "      <th>text_chunk</th>\n",
       "      <th>url</th>\n",
       "      <th>embeddings</th>\n",
       "      <th>metadata</th>\n",
       "    </tr>\n",
       "  </thead>\n",
       "  <tbody>\n",
       "    <tr>\n",
       "      <th>0</th>\n",
       "      <td>0</td>\n",
       "      <td>blog posts archive hive work all using hive pr...</td>\n",
       "      <td>https://hive.com/blog/</td>\n",
       "      <td>[0.02567603625357151, 0.027387771755456924, 0....</td>\n",
       "      <td>blog posts archive hive work all using hive pr...</td>\n",
       "    </tr>\n",
       "    <tr>\n",
       "      <th>1</th>\n",
       "      <td>1</td>\n",
       "      <td>know the secrets of email marketing automation...</td>\n",
       "      <td>https://www.notifyvisitors.com/blog/</td>\n",
       "      <td>[-0.0066526769660413265, 0.0397762730717659, 0...</td>\n",
       "      <td>know the secrets of email marketing automation...</td>\n",
       "    </tr>\n",
       "    <tr>\n",
       "      <th>2</th>\n",
       "      <td>2</td>\n",
       "      <td>how mckinney health uses hive to manage comple...</td>\n",
       "      <td>https://hive.com/blog/how-mckinney-health-uses...</td>\n",
       "      <td>[-0.003282790305092931, 0.024706317111849785, ...</td>\n",
       "      <td>how mckinney health uses hive to manage comple...</td>\n",
       "    </tr>\n",
       "    <tr>\n",
       "      <th>3</th>\n",
       "      <td>3</td>\n",
       "      <td>the best content calendar template for marketi...</td>\n",
       "      <td>https://hive.com/blog/content-calendar-template/</td>\n",
       "      <td>[0.012846430763602257, 0.020620401948690414, 0...</td>\n",
       "      <td>the best content calendar template for marketi...</td>\n",
       "    </tr>\n",
       "    <tr>\n",
       "      <th>4</th>\n",
       "      <td>4</td>\n",
       "      <td>the marketing strategy strengthen collaboratio...</td>\n",
       "      <td>https://hive.com/blog/content-calendar-template/</td>\n",
       "      <td>[0.042479731142520905, 0.029530702158808708, 0...</td>\n",
       "      <td>the marketing strategy strengthen collaboratio...</td>\n",
       "    </tr>\n",
       "  </tbody>\n",
       "</table>\n",
       "</div>"
      ],
      "text/plain": [
       "   Unnamed: 0                                         text_chunk  \\\n",
       "0           0  blog posts archive hive work all using hive pr...   \n",
       "1           1  know the secrets of email marketing automation...   \n",
       "2           2  how mckinney health uses hive to manage comple...   \n",
       "3           3  the best content calendar template for marketi...   \n",
       "4           4  the marketing strategy strengthen collaboratio...   \n",
       "\n",
       "                                                 url  \\\n",
       "0                             https://hive.com/blog/   \n",
       "1               https://www.notifyvisitors.com/blog/   \n",
       "2  https://hive.com/blog/how-mckinney-health-uses...   \n",
       "3   https://hive.com/blog/content-calendar-template/   \n",
       "4   https://hive.com/blog/content-calendar-template/   \n",
       "\n",
       "                                          embeddings  \\\n",
       "0  [0.02567603625357151, 0.027387771755456924, 0....   \n",
       "1  [-0.0066526769660413265, 0.0397762730717659, 0...   \n",
       "2  [-0.003282790305092931, 0.024706317111849785, ...   \n",
       "3  [0.012846430763602257, 0.020620401948690414, 0...   \n",
       "4  [0.042479731142520905, 0.029530702158808708, 0...   \n",
       "\n",
       "                                            metadata  \n",
       "0  blog posts archive hive work all using hive pr...  \n",
       "1  know the secrets of email marketing automation...  \n",
       "2  how mckinney health uses hive to manage comple...  \n",
       "3  the best content calendar template for marketi...  \n",
       "4  the marketing strategy strengthen collaboratio...  "
      ]
     },
     "execution_count": 58,
     "metadata": {},
     "output_type": "execute_result"
    }
   ],
   "source": [
    "df2.head()"
   ]
  },
  {
   "cell_type": "code",
   "execution_count": 62,
   "metadata": {},
   "outputs": [],
   "source": [
    "df2['values']=df2['embeddings']\n",
    "df2['id']=df2['Unnamed: 0']"
   ]
  },
  {
   "cell_type": "code",
   "execution_count": 63,
   "metadata": {},
   "outputs": [
    {
     "data": {
      "text/html": [
       "<div>\n",
       "<style scoped>\n",
       "    .dataframe tbody tr th:only-of-type {\n",
       "        vertical-align: middle;\n",
       "    }\n",
       "\n",
       "    .dataframe tbody tr th {\n",
       "        vertical-align: top;\n",
       "    }\n",
       "\n",
       "    .dataframe thead th {\n",
       "        text-align: right;\n",
       "    }\n",
       "</style>\n",
       "<table border=\"1\" class=\"dataframe\">\n",
       "  <thead>\n",
       "    <tr style=\"text-align: right;\">\n",
       "      <th></th>\n",
       "      <th>Unnamed: 0</th>\n",
       "      <th>text_chunk</th>\n",
       "      <th>url</th>\n",
       "      <th>embeddings</th>\n",
       "      <th>metadata</th>\n",
       "      <th>values</th>\n",
       "      <th>id</th>\n",
       "    </tr>\n",
       "  </thead>\n",
       "  <tbody>\n",
       "    <tr>\n",
       "      <th>0</th>\n",
       "      <td>0</td>\n",
       "      <td>blog posts archive hive work all using hive pr...</td>\n",
       "      <td>https://hive.com/blog/</td>\n",
       "      <td>[0.02567603625357151, 0.027387771755456924, 0....</td>\n",
       "      <td>blog posts archive hive work all using hive pr...</td>\n",
       "      <td>[0.02567603625357151, 0.027387771755456924, 0....</td>\n",
       "      <td>0</td>\n",
       "    </tr>\n",
       "    <tr>\n",
       "      <th>1</th>\n",
       "      <td>1</td>\n",
       "      <td>know the secrets of email marketing automation...</td>\n",
       "      <td>https://www.notifyvisitors.com/blog/</td>\n",
       "      <td>[-0.0066526769660413265, 0.0397762730717659, 0...</td>\n",
       "      <td>know the secrets of email marketing automation...</td>\n",
       "      <td>[-0.0066526769660413265, 0.0397762730717659, 0...</td>\n",
       "      <td>1</td>\n",
       "    </tr>\n",
       "    <tr>\n",
       "      <th>2</th>\n",
       "      <td>2</td>\n",
       "      <td>how mckinney health uses hive to manage comple...</td>\n",
       "      <td>https://hive.com/blog/how-mckinney-health-uses...</td>\n",
       "      <td>[-0.003282790305092931, 0.024706317111849785, ...</td>\n",
       "      <td>how mckinney health uses hive to manage comple...</td>\n",
       "      <td>[-0.003282790305092931, 0.024706317111849785, ...</td>\n",
       "      <td>2</td>\n",
       "    </tr>\n",
       "    <tr>\n",
       "      <th>3</th>\n",
       "      <td>3</td>\n",
       "      <td>the best content calendar template for marketi...</td>\n",
       "      <td>https://hive.com/blog/content-calendar-template/</td>\n",
       "      <td>[0.012846430763602257, 0.020620401948690414, 0...</td>\n",
       "      <td>the best content calendar template for marketi...</td>\n",
       "      <td>[0.012846430763602257, 0.020620401948690414, 0...</td>\n",
       "      <td>3</td>\n",
       "    </tr>\n",
       "    <tr>\n",
       "      <th>4</th>\n",
       "      <td>4</td>\n",
       "      <td>the marketing strategy strengthen collaboratio...</td>\n",
       "      <td>https://hive.com/blog/content-calendar-template/</td>\n",
       "      <td>[0.042479731142520905, 0.029530702158808708, 0...</td>\n",
       "      <td>the marketing strategy strengthen collaboratio...</td>\n",
       "      <td>[0.042479731142520905, 0.029530702158808708, 0...</td>\n",
       "      <td>4</td>\n",
       "    </tr>\n",
       "  </tbody>\n",
       "</table>\n",
       "</div>"
      ],
      "text/plain": [
       "   Unnamed: 0                                         text_chunk  \\\n",
       "0           0  blog posts archive hive work all using hive pr...   \n",
       "1           1  know the secrets of email marketing automation...   \n",
       "2           2  how mckinney health uses hive to manage comple...   \n",
       "3           3  the best content calendar template for marketi...   \n",
       "4           4  the marketing strategy strengthen collaboratio...   \n",
       "\n",
       "                                                 url  \\\n",
       "0                             https://hive.com/blog/   \n",
       "1               https://www.notifyvisitors.com/blog/   \n",
       "2  https://hive.com/blog/how-mckinney-health-uses...   \n",
       "3   https://hive.com/blog/content-calendar-template/   \n",
       "4   https://hive.com/blog/content-calendar-template/   \n",
       "\n",
       "                                          embeddings  \\\n",
       "0  [0.02567603625357151, 0.027387771755456924, 0....   \n",
       "1  [-0.0066526769660413265, 0.0397762730717659, 0...   \n",
       "2  [-0.003282790305092931, 0.024706317111849785, ...   \n",
       "3  [0.012846430763602257, 0.020620401948690414, 0...   \n",
       "4  [0.042479731142520905, 0.029530702158808708, 0...   \n",
       "\n",
       "                                            metadata  \\\n",
       "0  blog posts archive hive work all using hive pr...   \n",
       "1  know the secrets of email marketing automation...   \n",
       "2  how mckinney health uses hive to manage comple...   \n",
       "3  the best content calendar template for marketi...   \n",
       "4  the marketing strategy strengthen collaboratio...   \n",
       "\n",
       "                                              values  id  \n",
       "0  [0.02567603625357151, 0.027387771755456924, 0....   0  \n",
       "1  [-0.0066526769660413265, 0.0397762730717659, 0...   1  \n",
       "2  [-0.003282790305092931, 0.024706317111849785, ...   2  \n",
       "3  [0.012846430763602257, 0.020620401948690414, 0...   3  \n",
       "4  [0.042479731142520905, 0.029530702158808708, 0...   4  "
      ]
     },
     "execution_count": 63,
     "metadata": {},
     "output_type": "execute_result"
    }
   ],
   "source": [
    "df2.head()"
   ]
  },
  {
   "cell_type": "code",
   "execution_count": 64,
   "metadata": {},
   "outputs": [],
   "source": [
    "df2= df2.drop(['embeddings','url','Unnamed: 0','text_chunk'], axis=1)"
   ]
  },
  {
   "cell_type": "code",
   "execution_count": 65,
   "metadata": {},
   "outputs": [
    {
     "data": {
      "text/html": [
       "<div>\n",
       "<style scoped>\n",
       "    .dataframe tbody tr th:only-of-type {\n",
       "        vertical-align: middle;\n",
       "    }\n",
       "\n",
       "    .dataframe tbody tr th {\n",
       "        vertical-align: top;\n",
       "    }\n",
       "\n",
       "    .dataframe thead th {\n",
       "        text-align: right;\n",
       "    }\n",
       "</style>\n",
       "<table border=\"1\" class=\"dataframe\">\n",
       "  <thead>\n",
       "    <tr style=\"text-align: right;\">\n",
       "      <th></th>\n",
       "      <th>metadata</th>\n",
       "      <th>values</th>\n",
       "      <th>id</th>\n",
       "    </tr>\n",
       "  </thead>\n",
       "  <tbody>\n",
       "    <tr>\n",
       "      <th>0</th>\n",
       "      <td>blog posts archive hive work all using hive pr...</td>\n",
       "      <td>[0.02567603625357151, 0.027387771755456924, 0....</td>\n",
       "      <td>0</td>\n",
       "    </tr>\n",
       "    <tr>\n",
       "      <th>1</th>\n",
       "      <td>know the secrets of email marketing automation...</td>\n",
       "      <td>[-0.0066526769660413265, 0.0397762730717659, 0...</td>\n",
       "      <td>1</td>\n",
       "    </tr>\n",
       "    <tr>\n",
       "      <th>2</th>\n",
       "      <td>how mckinney health uses hive to manage comple...</td>\n",
       "      <td>[-0.003282790305092931, 0.024706317111849785, ...</td>\n",
       "      <td>2</td>\n",
       "    </tr>\n",
       "    <tr>\n",
       "      <th>3</th>\n",
       "      <td>the best content calendar template for marketi...</td>\n",
       "      <td>[0.012846430763602257, 0.020620401948690414, 0...</td>\n",
       "      <td>3</td>\n",
       "    </tr>\n",
       "    <tr>\n",
       "      <th>4</th>\n",
       "      <td>the marketing strategy strengthen collaboratio...</td>\n",
       "      <td>[0.042479731142520905, 0.029530702158808708, 0...</td>\n",
       "      <td>4</td>\n",
       "    </tr>\n",
       "  </tbody>\n",
       "</table>\n",
       "</div>"
      ],
      "text/plain": [
       "                                            metadata  \\\n",
       "0  blog posts archive hive work all using hive pr...   \n",
       "1  know the secrets of email marketing automation...   \n",
       "2  how mckinney health uses hive to manage comple...   \n",
       "3  the best content calendar template for marketi...   \n",
       "4  the marketing strategy strengthen collaboratio...   \n",
       "\n",
       "                                              values  id  \n",
       "0  [0.02567603625357151, 0.027387771755456924, 0....   0  \n",
       "1  [-0.0066526769660413265, 0.0397762730717659, 0...   1  \n",
       "2  [-0.003282790305092931, 0.024706317111849785, ...   2  \n",
       "3  [0.012846430763602257, 0.020620401948690414, 0...   3  \n",
       "4  [0.042479731142520905, 0.029530702158808708, 0...   4  "
      ]
     },
     "execution_count": 65,
     "metadata": {},
     "output_type": "execute_result"
    }
   ],
   "source": [
    "df2.head()"
   ]
  },
  {
   "cell_type": "code",
   "execution_count": 66,
   "metadata": {},
   "outputs": [],
   "source": [
    "df2.to_csv('test_dataset.csv')"
   ]
  },
  {
   "cell_type": "code",
   "execution_count": 47,
   "metadata": {},
   "outputs": [
    {
     "data": {
      "text/plain": [
       "0    0\n",
       "1    1\n",
       "2    2\n",
       "3    3\n",
       "4    4\n",
       "Name: id, dtype: int64"
      ]
     },
     "execution_count": 47,
     "metadata": {},
     "output_type": "execute_result"
    }
   ],
   "source": [
    "df2.head()"
   ]
  },
  {
   "cell_type": "code",
   "execution_count": 14,
   "metadata": {},
   "outputs": [],
   "source": [
    "df3=pd.read_csv('final_embeddings.csv')"
   ]
  },
  {
   "cell_type": "code",
   "execution_count": 28,
   "metadata": {},
   "outputs": [
    {
     "data": {
      "text/html": [
       "<div>\n",
       "<style scoped>\n",
       "    .dataframe tbody tr th:only-of-type {\n",
       "        vertical-align: middle;\n",
       "    }\n",
       "\n",
       "    .dataframe tbody tr th {\n",
       "        vertical-align: top;\n",
       "    }\n",
       "\n",
       "    .dataframe thead th {\n",
       "        text-align: right;\n",
       "    }\n",
       "</style>\n",
       "<table border=\"1\" class=\"dataframe\">\n",
       "  <thead>\n",
       "    <tr style=\"text-align: right;\">\n",
       "      <th></th>\n",
       "      <th>Unnamed: 0.1</th>\n",
       "      <th>Unnamed: 0</th>\n",
       "      <th>text_chunk</th>\n",
       "      <th>url</th>\n",
       "      <th>embeddings</th>\n",
       "    </tr>\n",
       "  </thead>\n",
       "  <tbody>\n",
       "    <tr>\n",
       "      <th>0</th>\n",
       "      <td>0</td>\n",
       "      <td>0</td>\n",
       "      <td>blog posts archive hive work all using hive pr...</td>\n",
       "      <td>https://hive.com/blog/</td>\n",
       "      <td>[0.02567603625357151, 0.027387771755456924, 0....</td>\n",
       "    </tr>\n",
       "    <tr>\n",
       "      <th>1</th>\n",
       "      <td>1</td>\n",
       "      <td>1</td>\n",
       "      <td>know the secrets of email marketing automation...</td>\n",
       "      <td>https://www.notifyvisitors.com/blog/</td>\n",
       "      <td>[-0.0066526769660413265, 0.0397762730717659, 0...</td>\n",
       "    </tr>\n",
       "    <tr>\n",
       "      <th>2</th>\n",
       "      <td>2</td>\n",
       "      <td>2</td>\n",
       "      <td>how mckinney health uses hive to manage comple...</td>\n",
       "      <td>https://hive.com/blog/how-mckinney-health-uses...</td>\n",
       "      <td>[-0.003282790305092931, 0.024706317111849785, ...</td>\n",
       "    </tr>\n",
       "    <tr>\n",
       "      <th>3</th>\n",
       "      <td>3</td>\n",
       "      <td>3</td>\n",
       "      <td>the best content calendar template for marketi...</td>\n",
       "      <td>https://hive.com/blog/content-calendar-template/</td>\n",
       "      <td>[0.012846430763602257, 0.020620401948690414, 0...</td>\n",
       "    </tr>\n",
       "    <tr>\n",
       "      <th>4</th>\n",
       "      <td>4</td>\n",
       "      <td>4</td>\n",
       "      <td>the marketing strategy strengthen collaboratio...</td>\n",
       "      <td>https://hive.com/blog/content-calendar-template/</td>\n",
       "      <td>[0.042479731142520905, 0.029530702158808708, 0...</td>\n",
       "    </tr>\n",
       "  </tbody>\n",
       "</table>\n",
       "</div>"
      ],
      "text/plain": [
       "   Unnamed: 0.1  Unnamed: 0  \\\n",
       "0             0           0   \n",
       "1             1           1   \n",
       "2             2           2   \n",
       "3             3           3   \n",
       "4             4           4   \n",
       "\n",
       "                                          text_chunk  \\\n",
       "0  blog posts archive hive work all using hive pr...   \n",
       "1  know the secrets of email marketing automation...   \n",
       "2  how mckinney health uses hive to manage comple...   \n",
       "3  the best content calendar template for marketi...   \n",
       "4  the marketing strategy strengthen collaboratio...   \n",
       "\n",
       "                                                 url  \\\n",
       "0                             https://hive.com/blog/   \n",
       "1               https://www.notifyvisitors.com/blog/   \n",
       "2  https://hive.com/blog/how-mckinney-health-uses...   \n",
       "3   https://hive.com/blog/content-calendar-template/   \n",
       "4   https://hive.com/blog/content-calendar-template/   \n",
       "\n",
       "                                          embeddings  \n",
       "0  [0.02567603625357151, 0.027387771755456924, 0....  \n",
       "1  [-0.0066526769660413265, 0.0397762730717659, 0...  \n",
       "2  [-0.003282790305092931, 0.024706317111849785, ...  \n",
       "3  [0.012846430763602257, 0.020620401948690414, 0...  \n",
       "4  [0.042479731142520905, 0.029530702158808708, 0...  "
      ]
     },
     "execution_count": 28,
     "metadata": {},
     "output_type": "execute_result"
    }
   ],
   "source": [
    "df3.head()"
   ]
  },
  {
   "cell_type": "code",
   "execution_count": null,
   "metadata": {},
   "outputs": [],
   "source": []
  },
  {
   "cell_type": "code",
   "execution_count": null,
   "metadata": {},
   "outputs": [],
   "source": [
    "from openai import OpenAI\n",
    "client = OpenAI()\n",
    "\n",
    "def get_embedding(text, model=\"text-embedding-3-small\"):\n",
    "   text = text.replace(\"\\n\", \" \")\n",
    "   return client.embeddings.create(input = [text], model=model).data[0].embedding\n",
    "\n",
    "df['ada_embedding'] = df.combined.apply(lambda x: get_embedding(x, model='text-embedding-3-small'))\n",
    "df.to_csv('output/embedded_1k_reviews.csv', index=False)"
   ]
  },
  {
   "cell_type": "code",
   "execution_count": 1,
   "metadata": {},
   "outputs": [
    {
     "data": {
      "text/plain": [
       "{'dimension': 512,\n",
       " 'index_fullness': 0.0,\n",
       " 'namespaces': {},\n",
       " 'total_vector_count': 0}"
      ]
     },
     "execution_count": 1,
     "metadata": {},
     "output_type": "execute_result"
    }
   ],
   "source": [
    "from pinecone import Pinecone\n",
    "import os \n",
    "\n",
    "pc = Pinecone(api_key='3661dc2a-3710-4669-a187-51faaa0cc557')\n",
    "index = pc.Index(\"semantic-search\")\n",
    "\n",
    "index.describe_index_stats()\n",
    "\n",
    "# Returns:\n",
    "# {'dimension': 8,\n",
    "#  'index_fullness': 8e-05,\n",
    "#  'namespaces': {'ns1': {'vector_count': 4}, 'ns2': {'vector_count': 4}},\n",
    "#  'total_vector_count': 8}\n"
   ]
  },
  {
   "cell_type": "code",
   "execution_count": 21,
   "metadata": {},
   "outputs": [
    {
     "name": "stdout",
     "output_type": "stream",
     "text": [
      "('blog posts archive hive work all using hive project management how teams work in hive productivity remote and hybrid work protected how envision pharma group uses hive to organize multiple workflows this content is password protected to view it please enter your password below password you dont need more timeyou just need to decide seth godin the marketing guru prides himself on this quote having written more than blog posts a day and published social media analysts and strategists we get it the everchanging algorithms fleeting trends and shrinking attention spans can feel chaotic throw in occasional go viral requests from the csuite and i was recently in a meeting where someone offhandedly suggested we stop hiring writers and have chatgpt write all the content for us i immediately busted out in laughter thinking please check with my assistant a command once restricted to executives and highranking managers is now available to anyone with an internet connection thanks to artificial intelligence dreaming of worklife the power of artificial intelligence ai tools in the workplace cant be understated from streamlining processes and increasing productivity to enhancing decisionmaking and customer service ai tools are revolutionizing the', '[0.02567603625357151, 0.027387771755456924, 0.026926347985863686, 0.0021080398000776768, 0.03343094512820244, -0.07418514043092728, -0.0027499408461153507, 0.05700824409723282, -0.02344333752989769, -0.006590182892978191, 0.06543295830488205, -0.03224017098546028, -0.0020261742174625397, 0.02174648642539978, 0.002292237477377057, 0.009213604032993317, -0.012927326373755932, -0.07085097581148148, -0.01072439644485712, 0.007985619828104973, -0.006839500740170479, 0.035187333822250366, -0.012555209919810295, 0.08954610675573349, -0.045279134064912796, 0.03867034241557121, -0.029486509039998055, 0.024128032848238945, -4.724134851130657e-05, -0.022490719333291054, -0.034353792667388916, -0.037420034408569336, 0.003008561674505472, -0.008022830821573734, 0.03414540737867355, 0.013336654752492905, -0.016611279919743538, 0.025348573923110962, 0.033550020307302475, 0.03420494496822357, -0.03426448628306389, -0.001588007085956633, 0.06769543141126633, 0.046410366892814636, -0.012384036555886269, 0.017534127458930016, -0.036586493253707886, -0.03286532685160637, 0.0168196652084589, 0.04772021621465683, -0.04516005516052246, -0.01000993326306343, -0.003473707241937518, 0.04903006553649902, -0.0054031312465667725, -0.030781473964452744, -0.011498399078845978, 0.011818419210612774, -0.03890850022435188, 0.03950388357043266, 0.04087327420711517, -0.035782720893621445, 0.030349818989634514, 0.06263464689254761, -0.054299235343933105, 0.00892335269600153, -0.033282097429037094, -0.005890603642910719, -0.0016931300051510334, -0.020868292078375816, 0.00904243066906929, 0.0685885101556778, -0.0067353080958127975, 0.00947408564388752, -0.030960090458393097, -0.060729410499334335, -0.06840988993644714, 0.03423471748828888, 0.004748206119984388, 0.0002240838948637247, -0.01248822920024395, 0.005693382117897272, 0.020272905007004738, -0.020153827965259552, -0.05197722837328911, -0.0019424479687586427, -0.005142649635672569, -0.01398413721472025, -0.06269418448209763, -0.006701817736029625, -0.029947934672236443, 0.06888620555400848, -0.018769554793834686, -0.007341857999563217, -0.015256775543093681, -0.003079263726249337, -0.018293246626853943, 0.03989088535308838, 0.01150584127753973, 0.04903006553649902, 0.03965273126959801, -0.028265967965126038, -0.032627172768116, 0.037479571998119354, 0.03560410439968109, -0.02255025878548622, 0.012852903455495834, 0.014601850882172585, 0.0179806686937809, -0.022148372605443, -0.14158287644386292, -0.07430421561002731, -0.03759864717721939, -0.008104696869850159, -0.027298465371131897, -0.009898298420011997, 0.04846445098519325, 0.009779221378266811, 0.02058548294007778, -0.013641789555549622, -0.02914416231215, 0.008268428035080433, 0.00605433527380228, -0.04638059809803963, 0.009801547974348068, -0.025735575705766678, -0.0071483575738966465, -0.02010917477309704, -0.021225523203611374, -0.04117096588015556, -0.014505100436508656, -0.0181443989276886, 0.05641285702586174, -0.04905983433127403, -0.015078159980475903, -0.01671547256410122, -0.001502420287579298, 0.024902034550905228, -0.03194247931241989, -0.023309376090765, 0.024366186931729317, -0.005016129929572344, -0.010084356181323528, -0.025750460103154182, -0.05441831424832344, -0.006009681150317192, -0.018561169505119324, -0.0012000756105408072, -0.02470853365957737, -0.024157801643013954, -0.02640538476407528, -0.022356757894158363, -0.018590938299894333, 0.023964300751686096, -0.0025471372064203024, -0.024782957509160042, 0.005280332639813423, 0.029025085270404816, -0.058794401586055756, 0.009861086495220661, -0.0016001008916646242, 0.02371126227080822, -0.04691644385457039, -0.0017749955877661705, -0.02837016060948372, -0.0053249867632985115, -0.014430676586925983, -0.03090055286884308, -0.057365477085113525, -0.029754433780908585, -0.04843468219041824, -0.06906481832265854, -0.00250992551445961, 0.027834312990307808, 0.035276640206575394, -0.032359249889850616, -0.013396193273365498, 0.00490449508652091, -0.021493447944521904, -0.006437615025788546, -0.03950388357043266, 0.021091561764478683, -0.0031853169202804565, -0.022267449647188187, -0.04968499019742012, -0.04837514087557793, -0.014706043526530266, -0.016804780811071396, -0.046440135687589645, 0.024902034550905228, 0.006422730162739754, 0.03444310277700424, -0.0027201713528484106, 0.03194247931241989, 0.032389018684625626, -0.02807246707379818, 0.011081628501415253, 0.008432159200310707, 0.0018782579572871327, -0.0021601361222565174, 0.044296745210886, -0.011081628501415253, 0.01792112924158573, 0.0030308887362480164, -0.0070516071282327175, 0.009935510344803333, 0.014832562766969204, 0.0261374618858099, -0.009831317700445652, -0.009838759899139404, 0.08668825775384903, -0.017697859555482864, 0.03483010083436966, 0.04066488891839981, -0.005023572593927383, -0.044773053377866745, -0.004599359817802906, 0.023904763162136078, 0.014348811469972134, 0.0204812902957201, -0.05048876255750656, 0.013827848248183727, -0.01398413721472025, 0.03503848612308502, -0.026569116860628128, 0.024336418136954308, -0.011833303608000278, -0.027164502069354057, -0.0003246716223657131, 0.04239150881767273, 0.051471151411533356, -0.01228728611022234, -0.03736049309372902, -0.04087327420711517, 0.045576825737953186, -0.0031053118873387575, 0.021835794672369957, -0.04688667505979538, 0.002178741851821542, -0.012101227417588234, -0.0004009554977528751, -0.022148372605443, 0.0004432837595231831, -0.003706280142068863, -0.020823637023568153, 0.019067248329520226, -0.023696377873420715, -0.01604566164314747, -0.0027369167655706406, 0.001811276888474822, 0.04831560328602791, -0.012071458622813225, 0.02710496447980404, 0.02487226575613022, 0.005741757340729237, -0.02653934620320797, 0.01881420984864235, 0.046142444014549255, 0.050637610256671906, -0.01388738676905632, 0.02045152150094509, 0.022803297266364098, -0.03706280142068863, 0.028682738542556763, -0.03116847574710846, 0.028399929404258728, -0.04075419530272484, 0.031079167500138283, -0.0006972532719373703, -0.03807495906949043, 0.004242127761244774, 0.07454237341880798, 0.04545774683356285, -0.04245104640722275, -0.029650241136550903, -0.02973954938352108, 0.008313082158565521, 0.022326989099383354, -0.03200201690196991, 0.05748455226421356, 0.006962299346923828, 0.02058548294007778, -0.011059301905333996, 0.022297218441963196, 0.05423969775438309, 0.04605313390493393, -0.024916918948292732, 0.04120073467493057, 0.024559687823057175, 0.01291988417506218, -0.019394710659980774, 0.03908711299300194, 0.02901020087301731, -0.032627172768116, -0.0008730783010832965, 0.027655696496367455, 0.027134733274579048, -9.535484423395246e-05, 0.009407104924321175, 0.014661389403045177, 0.0015573074342682958, -0.03905734419822693, 0.010903012938797474, -0.005905488505959511, 0.01884397864341736, -0.0033490483183413744, -0.023830339312553406, -0.0016847572987899184, -0.00743488734588027, 0.01438602339476347, 0.01079137809574604, 0.05182838439941406, -0.00029048341093584895, -0.023904763162136078, -0.035782720893621445, -0.02427687868475914, 0.025289036333560944, -0.060788948088884354, 0.024470379576086998, -0.04152819886803627, 0.006329701282083988, -0.0319722481071949, 0.007096261251717806, -0.05016130208969116, -0.006716702599078417, -0.01282313372939825, 0.05674032121896744, 0.004052348434925079, 0.03569341078400612, -0.032686710357666016, -0.043612051755189896, -0.0030569368973374367, 0.018025321885943413, 0.04679736867547035, 0.01475069671869278, -0.04721413925290108, 0.0005725942319259048, 0.030721936374902725, -0.00252294959500432, -0.03506825491786003, -0.060461483895778656, -0.03402633219957352, -0.07579268515110016, -0.029947934672236443, -0.013827848248183727, 0.026822155341506004, 0.0090721994638443, -0.0012679868377745152, 0.03402633219957352, 0.022460950538516045, -0.019960327073931694, 0.03753910958766937, -0.012235189788043499, -0.0055817472748458385, -0.03872988373041153, -0.04551728814840317, 0.003483010223135352, -0.017489474266767502, -0.018605824559926987, -0.01117093674838543, -0.02211860381066799, -0.011952381581068039, 0.015360968187451363, 0.02260979637503624, 0.01178864948451519, -0.0018801185069605708, -0.010173664428293705, -0.047035522758960724, 0.004982639569789171, -0.005507323890924454, 0.013373865745961666, -0.02171671763062477, 0.02634584717452526, -0.0336393304169178, -0.07073190063238144, 0.021463679149746895, 0.008647986687719822, 0.019603095948696136, 0.011974708177149296, 0.02653934620320797, 0.029456740245223045, -0.011386764235794544, 0.001265196013264358, -0.031555477529764175, -0.02071944624185562, 0.03959319368004799, -0.02761104330420494, -0.01778716780245304, -0.05632355064153671, -0.04658898338675499, 0.08639056235551834, 0.02543788217008114, -0.00016152180614881217, 0.0031908988021314144, 0.008268428035080433, -0.017191780731081963, 0.01033739559352398, 0.030989859253168106, 0.017072703689336777, 0.006139921955764294, -0.007073934189975262, -0.04352274164557457, -0.040545810014009476, -0.004353762604296207, 0.022952144965529442, -0.004108165856450796, -0.015658661723136902, 0.03584225848317146, 0.023934531956911087, -0.0017898802179843187, 0.011156052350997925, -0.02973954938352108, 0.04146866127848625, 0.012681729160249233, 0.015599122270941734, -0.0011944938451051712, -0.014430676586925983, 0.04914914444088936, 0.026956116780638695, 0.057692937552928925, -0.007866541855037212, -0.06954112648963928, 0.02683703973889351, 0.012882672250270844, -0.008566121570765972, 0.05269169434905052, 0.05209630727767944, -0.039414577186107635, -0.0036709289997816086, -0.03616972267627716, -0.04021834954619408, 0.004212358500808477, -0.007196732796728611, -0.04483259469270706, -0.01368644367903471, 0.01142397616058588, 0.004387253429740667, 0.026301192119717598, 0.0006432963418774307, 0.06087825447320938, 0.003607669146731496, -0.0023945695720613003, -0.030930321663618088, -0.049833837896585464, -0.028132004663348198, -0.00960804708302021, -0.010032259859144688, 0.011260244995355606, -0.03340117633342743, -0.06870758533477783, 0.010426703840494156, -0.02394941635429859, 0.04858352616429329, 0.04048627242445946, -0.03369886800646782, -0.036943722516298294, 0.017162011936306953, 0.014400907792150974, -0.01728108897805214, 0.04402882233262062, 0.009496412239968777, 0.015346083790063858, -0.03369886800646782, 0.040307655930519104, 0.009228488430380821, -0.00221037189476192, -0.01601589284837246, 0.003907222766429186, -0.029650241136550903, -0.009749451652169228, 0.012212862260639668, -0.017563898116350174, -0.015762854367494583, -0.02241629734635353, -0.02311587519943714, -0.003966761752963066, -0.010977435857057571, -0.015807507559657097, -0.014490215107798576, -0.05370384827256203, -0.03283555805683136, -0.033282097429037094, -0.04584474861621857, 0.04498143866658211, 0.03667579963803291, 0.009838759899139404, 0.011156052350997925, -0.025393228977918625, 0.03170432522892952, -0.01213843934237957, -0.01878443919122219, 0.02004963532090187, 0.031019629910588264, -0.017906244844198227, -0.0158223919570446, -0.05531139299273491, -0.029724663123488426, -0.06275372207164764, -0.004941707011312246, -0.002416896400973201, -0.001804764848202467, -0.003559294156730175, -0.0429571270942688, -0.01009179838001728, -0.010173664428293705, 0.025184843689203262, 0.0014782326761633158, -0.01398413721472025, 0.029248354956507683, -0.0036113904789090157, -0.025125304237008095, -0.006247835699468851, 0.01811463013291359, 0.04343343526124954, -0.03060285933315754, -0.009020103141665459, -0.0010679742554202676, 0.01604566164314747, 0.011877957731485367, -0.044475361704826355, -0.023309376090765, 0.02537834271788597, -0.032954633235931396, -0.018323015421628952, 0.005868277046829462, 0.0027313348837196827, -0.06418264657258987, -0.0001218681427417323, -0.03637810796499252, -0.011490956880152225, -0.013314327225089073, -0.02255025878548622, 0.007576291449368, -0.01754901371896267, -0.05950886756181717, -0.01233938243240118, -0.0003593249712139368, -0.021865563467144966, -0.03384771570563316, 0.021165985614061356, -0.018203938379883766, 0.00952618196606636, 0.01029274147003889, -0.0027294743340462446, -0.01558423787355423, 0.005697103217244148, -0.020525945350527763, 0.020228251814842224, 0.0016726636094972491, 0.02277352847158909, 0.022326989099383354, -0.01398413721472025, 0.0010391352698206902, -0.010553223080933094, -0.01848674565553665, 0.01784670539200306, 0.013366423547267914, 0.0029880953952670097, 0.0214785635471344, 0.045874517410993576, 0.032656941562891006, 0.021791141480207443, 0.033579789102077484, 0.0029880953952670097, -0.00269784452393651, 0.025690920650959015, -0.013976695016026497, -0.020272905007004738, -0.05182838439941406, 0.014884659089148045, 0.0186504777520895, -0.02001986652612686, -0.01193749625235796, -0.07847192138433456, 0.047005753964185715, 0.022654451429843903, -0.007047886028885841, 0.004402137827128172, 0.007099982351064682, 0.0028727392200380564, -0.01609031669795513, -0.02677750214934349, -0.02177625522017479, 0.0020187317859381437, -0.023056337609887123, 0.007888869382441044, -0.005745478440076113, 0.04489213228225708, -0.010917897336184978, 0.04075419530272484, 0.00927314255386591, -0.005083111114799976, 0.02417268604040146, -0.03992065414786339, 0.002709008054807782, -0.021895334124565125, -0.00034281230182386935, -0.001260544522665441, -0.008655428886413574, 0.022758644074201584, 0.015614007599651814, -0.013038961216807365, 0.0036690684501081705, -0.04858352616429329, -0.05665101110935211, 0.0060208444483578205, -0.019662635400891304, -0.0036355778574943542, 0.025899305939674377, -0.04968499019742012, 0.025988614186644554, -0.0051054381765425205, 0.018710017204284668, -0.05078645795583725, -0.02737288735806942, 0.012711498886346817, -0.00585339218378067, -0.0059426999650895596, 0.041974738240242004, 0.019662635400891304, 0.01641777902841568, -0.029486509039998055, 0.023502876982092857, 0.011647245846688747, -0.023651722818613052, 0.024187570437788963, -0.008737294934689999, -0.05885394290089607, -0.057663168758153915, 0.02101713791489601, 0.04545774683356285, 0.012584979645907879, 0.014624177478253841, -0.046440135687589645, 0.008960564620792866, 0.0074460506439208984, 0.0058199018239974976, 0.03137686103582382, -0.005953863728791475, -0.03256763517856598, 0.047243908047676086, 0.0068506645038723946, 0.016611279919743538, -0.028786931186914444, 0.039176423102617264, -0.012480787001550198, 0.012101227417588234, -0.013292000629007816, -0.002515507396310568, -0.008380062878131866, 0.002601094078272581, -0.03218063339591026, 0.04858352616429329, -0.0003939783200621605, 0.012778479605913162, -0.028980430215597153, -0.05504347011446953, -0.00947408564388752, 0.012904999777674675, 0.029620472341775894, 0.005749199539422989, 0.010374607518315315, -0.003970482852309942, 0.015130256302654743, 0.018710017204284668, 0.003235552692785859, -0.02643515355885029, 0.016224278137087822, -0.03057308867573738, 0.046410366892814636, -0.03736049309372902, 0.002893205499276519, 0.03200201690196991, -0.009369892999529839, -0.026033269241452217, -0.019662635400891304, -0.011498399078845978, -0.059657711535692215, 0.03715210780501366, 0.0027034261729568243, -0.01978171244263649, 0.025289036333560944, -0.019528672099113464, 0.012480787001550198, 0.04069465771317482, -0.013961809687316418, 0.03218063339591026, -0.011959823779761791, 0.043879974633455276, -0.02984374202787876, 0.005298938602209091, -0.023934531956911087, -0.014475330710411072, -0.045606594532728195, -0.020793868228793144, -0.030260512605309486, -0.004316551145166159, 0.010582992807030678, -0.0022550257854163647, 0.00826098583638668, -0.01038949191570282, 0.00840983260422945, -0.010858358815312386, -0.019796596840023994, 0.017504358664155006, -0.02314564399421215, -0.012592421844601631, 0.018308131024241447, 0.0479583702981472, 0.013612020760774612, -0.010002491064369678, -0.006980904843658209, -0.020525945350527763, -0.0010344837792217731, -0.008566121570765972, -0.0004158401570748538, -0.00785909965634346, -0.014214849099516869, 0.029263239353895187, 0.012175651267170906, -0.016894087195396423, -0.0001980357337743044, -0.018963055685162544, -0.0392954982817173, 0.009228488430380821, -0.037300955504179, -0.026866810396313667, -0.02857854589819908, -0.004606802016496658, 0.011520725674927235, -0.023517761379480362, -0.012525440193712711, 0.03423471748828888, -0.012830575928092003, 0.039682500064373016, 0.018040206283330917, -0.053614541888237, 0.028385045006871223, -0.0582883246243, -0.04652944579720497, -0.0039035018999129534, -0.012384036555886269, 0.008030273951590061, 0.056502167135477066, -0.02298191376030445, 0.007241386454552412, 0.01558423787355423, 0.04908960685133934, 0.012331940233707428, 0.021091561764478683, -0.016760125756263733, 0.015331198461353779, -0.03125778213143349, 0.002761104144155979, 0.00040700240060687065, -0.026450039818882942, -0.015063274651765823, -0.0021471120417118073, 0.012882672250270844, 0.023309376090765, 0.009317796677350998, 0.05697847530245781, 0.014564638957381248, -0.008618217892944813, 0.026851924136281013, -0.0034271928016096354, -0.0319722481071949, 0.03167455270886421, -0.006772520020604134, 0.0004216544912196696, -0.0018466280307620764, -0.016536856070160866, -0.021954871714115143, -0.03613995388150215, 0.04075419530272484, -0.004260733723640442, 0.009295469149947166, -0.0020987368188798428, -0.0017182477749884129, 0.006638558115810156, 0.011595149524509907, -0.0322997085750103, -0.02887623757123947, -0.00539568904787302, -0.020228251814842224, -0.05340615659952164, 0.024083377793431282, -0.011922611854970455, -0.02271398901939392, 0.02037709765136242, -0.019841250032186508, 0.02260979637503624, 0.02677750214934349, -0.024187570437788963, 0.01466883160173893, -0.014311599545180798, 0.024961574003100395, -0.06424219161272049, 0.022297218441963196, 0.02174648642539978, 0.008960564620792866, 0.024827610701322556, 0.04242127761244774, 0.04501120746135712, 0.0322997085750103, 0.019662635400891304, -0.027953390032052994, 0.061027102172374725, -0.04087327420711517, -0.001975938444957137, -0.025616498664021492, 0.05141161382198334, -0.002921114442870021, -0.013113384135067463, -0.013812963850796223, -0.03867034241557121, 0.02607792243361473, -0.01771274395287037, 0.006552970968186855, 0.01808486133813858, -0.007903753779828548, -0.0004314225516282022, -0.046975985169410706, -0.011297455988824368, 0.016998279839754105, 0.006783683318644762, -0.014988851733505726, -0.020764099434018135, -0.030424242839217186, -0.0392954982817173, -0.009221046231687069, -0.008551236242055893, 0.03340117633342743, -0.018888631835579872, 0.021002253517508507, 0.007807003799825907, 0.004599359817802906, -0.018010437488555908, -0.04188543185591698, 0.030513551086187363, 0.005726872477680445, -0.014415792189538479, 0.01388738676905632, 0.017906244844198227, -0.007680484093725681, 0.010456472635269165, -0.002766686026006937, -0.012800807133316994, -0.013277116231620312, 0.01005458738654852, -0.004621686413884163, -0.02511041983962059, 0.002835527528077364, -0.018456976860761642, -0.028012927621603012, 0.020972484722733498, 0.013433405198156834, -0.0007195802172645926, -0.004919379949569702, 0.017534127458930016, -0.0012140299659222364, -0.023636838421225548, 0.020659906789660454, -0.011297455988824368, 0.024902034550905228, -0.00855867937207222, 0.016194509342312813, 0.02637561596930027, 0.02460434101521969, 0.009630374610424042, 0.016134969890117645, 0.038848958909511566, -0.032150864601135254, 0.009496412239968777, 0.015346083790063858, 0.00485239876434207, -0.04858352616429329, 0.032954633235931396, -0.023800570517778397, -0.00990574061870575, 0.017028050497174263, -0.04143889248371124, 0.018397439271211624, 0.012413805350661278, -0.00967502873390913, 0.003414168721064925, -0.009429431520402431, 0.05754409357905388, 0.013165480457246304, -0.0038848959375172853, -0.019469134509563446, 0.005518487188965082, -0.0008033064659684896, -0.017057819291949272, 0.013277116231620312, 0.027953390032052994, -0.007948407903313637, -0.008901026099920273, -0.03020097315311432, 0.038878727704286575, 0.015777738764882088, -0.013269673101603985, -0.009771778248250484, 0.00605433527380228, -0.01571819931268692, 0.020258020609617233, 0.016507087275385857, 0.0026476087514311075, 0.0004686341853812337, 0.025899305939674377, -0.0019294238882139325, 0.0007702811271883547, 0.027715235948562622, -0.023621954023838043, -0.01033739559352398, -0.012986864894628525, -0.03200201690196991, 0.023220067843794823, -0.0016419639578089118, -0.051471151411533356, -0.005135207436978817, 0.00473704282194376, 0.0007605130667798221, 0.008186562918126583, 0.01692385785281658, -0.00043072481639683247, -0.013366423547267914, -0.028727391734719276, 0.04242127761244774, 0.02537834271788597, 0.01692385785281658, 0.00878939125686884, -0.009355008602142334, 0.012741267681121826, -0.01921609416604042, -0.027119848877191544, 0.02767058089375496, 0.006820894777774811, -0.024827610701322556, -0.012875230051577091, 0.007643272168934345, -8.249066354437673e-07, -0.01821882277727127, -0.009853644296526909, 0.035217102617025375, -0.03426448628306389, 0.03221040219068527, 0.002128506312146783, 0.0036932560615241528, -0.0040374635718762875, 0.03724141791462898, -0.006746471859514713, 0.026956116780638695, -0.01437113806605339, -0.021433908492326736, -0.01674524135887623, 0.027179386466741562, -0.0037341888528317213, 0.01595635525882244, 0.004145377315580845, 0.033520251512527466, -0.006352028343826532, 0.00037397706182673573, -0.03846195712685585, -0.012808249332010746, 0.028697622939944267, -0.0026941231917589903, -0.02430664747953415, -0.0038253574166446924, 0.021791141480207443, 0.008417274802923203, 0.008127023465931416, 0.07323252409696579, 0.001652197097428143, 0.015614007599651814, 0.016298701986670494, 0.02188044786453247, -0.023354029282927513, 0.0203175600618124, -0.017176896333694458, 0.014862331561744213, 0.014311599545180798, 0.009645259007811546, -0.01025553047657013, 0.0031183359678834677, 0.024023840203881264, -0.01628381758928299, 0.03283555805683136, 0.018561169505119324, 0.027224041521549225, -0.002617839490994811, -0.04245104640722275, -0.01612008549273014, 0.00771769555285573, -0.003166711190715432, -0.024961574003100395, 0.006445057224482298, -0.05352523550391197, 0.015673546120524406, 0.008327966555953026, -0.008767063729465008, 0.019320286810398102, 0.03509802743792534, -0.017772283405065536, -0.019141672179102898, -0.042004507035017014, 0.014549754559993744, -0.024157801643013954, 0.011580265127122402, -0.018873747438192368, 0.023264722898602486, -0.009570836089551449, 0.04188543185591698, -0.0035146400332450867, -0.013500385917723179, 0.03014143370091915, -0.021061792969703674, 0.03366909921169281, -0.007155799772590399, 0.00300111947581172, 0.006270162761211395, -0.029114393517374992, 0.02624165453016758, -0.027328234165906906, 0.010076913982629776, -0.010702069848775864, 0.02185067906975746, 0.01585216261446476, 0.0033490483183413744, 0.03483010083436966, 0.021686948835849762, 0.006084104534238577, 0.001104255672544241, -0.0029657683335244656, -0.00035211522481404245, -0.019528672099113464, -0.0203175600618124, 0.02554207481443882, 0.03447287157177925, -0.007643272168934345, -3.488592119538225e-05, -0.014966524206101894, -0.02037709765136242, 0.0074051180854439735, 0.009243372827768326, 0.004353762604296207, -0.025988614186644554, -0.01135699450969696, 0.034413330256938934, 0.027983158826828003, -0.011520725674927235, -0.013329212553799152, -0.01555446907877922, 0.05563885718584061, 0.019156556576490402, -0.01978171244263649, -0.015837276354432106, -0.0025471372064203024, -0.015018620528280735, 0.00850658304989338, -0.016313586384058, 0.0369734913110733, -0.02037709765136242, -0.006392960902303457, 0.020600367337465286, 0.009771778248250484, -0.011096512898802757, 0.018724901601672173, -0.008752179332077503, 0.004528657533228397, -0.0041528199799358845, -0.03756887838244438, 0.020302675664424896, -0.023309376090765, 0.03715210780501366, -0.005674776155501604, -0.027625927701592445, -0.010575550608336926, -0.007252550218254328, -0.016789894551038742, -0.0035648758057504892, 0.009995048865675926, 0.03724141791462898, 0.017072703689336777, 0.000415607588365674, 0.005656170193105936, 0.02610769122838974, -0.02804269827902317, 0.028652967885136604, 0.014095772057771683, 0.009883414022624493, -0.04102212190628052, 0.0028094793669879436, -0.026316076517105103, -0.030960090458393097, 0.006240393500775099, -0.0046105231158435345, 0.001196354511193931, 0.029784202575683594, 0.030022356659173965, -0.008685198612511158, 0.023086106404662132, -0.01811463013291359, 0.005845949985086918, -0.05031014606356621, 0.025854652747511864, -0.0034941737540066242, -0.010687185451388359, -0.007152078673243523, 0.020868292078375816, 0.011297455988824368, -0.0018763972911983728, -0.02018359676003456, 0.035276640206575394, 0.0070702130906283855, 0.00444679195061326, -0.008514025248587132, -0.02834038995206356, -0.010895570740103722, -0.019960327073931694, 0.03807495906949043, 0.0008498210227116942, -0.006761356256902218, 0.027328234165906906, -0.0038997805677354336, -0.02001986652612686, -0.008298197761178017, 0.022431181743741035, -0.0065752980299293995, 0.011342110112309456, -0.012897556647658348, -0.010649973526597023, -0.019275633618235588, -0.015480045229196548, 0.00855867937207222, 0.019394710659980774, -0.02131483145058155, 0.005708266515284777, -0.00041793330456130207, -0.008424717001616955, 0.035485025495290756, -0.01087324321269989, 0.01117093674838543, -0.023249836638569832, 8.802880620351061e-05, -0.0073083676397800446, -0.018829094246029854, 0.10383538156747818, -0.016343355178833008, -0.018442092463374138, -0.024931803345680237, 0.0336393304169178, -0.0027201713528484106, 0.04164727404713631, -0.02144879288971424, 0.00892335269600153, -0.018323015421628952, 0.008714967407286167, -0.04539820924401283, 0.006500874646008015, 0.027134733274579048, 0.03274625167250633, -0.01658150926232338, -0.014207406900823116, 0.00709254015237093, -0.01495163980871439, -0.021939987316727638, 0.008662871085107327, 0.009801547974348068, -0.010456472635269165, -0.002208511345088482, 0.028146890923380852, -0.013589693233370781, 0.016313586384058, -0.013582251034677029, 0.01520467922091484, 0.0027294743340462446, 0.01918632537126541, -0.023473108187317848, -0.014683715999126434, 0.002692262642085552, 0.014110656455159187, 0.0026401663199067116, 0.0031462449114769697, -0.008819160051643848, 0.002454108092933893, 0.005071947351098061, 0.00023222393065225333, -0.007018116768449545, -0.01935005746781826, -0.00990574061870575, 0.020793868228793144, 0.004137935116887093, -0.0032169469632208347, -0.009310354478657246, -0.0049454281106591225, -0.022862836718559265, -0.018442092463374138, 0.022967029362916946, 0.04179612174630165, 0.010121568106114864, 0.008253543637692928, -0.03304394334554672, -0.008729852735996246, 0.032656941562891006, 0.017727628350257874, -0.0022457230370491743, -0.016194509342312813, -0.008581005968153477, 0.01945425011217594, -0.010694627650082111, -0.023190299049019814, -0.010709512047469616, 0.031317323446273804, 0.041409119963645935, -0.0029973981436342, 0.00743488734588027, 0.007955850102007389, -0.00012872903607785702, 0.041379351168870926, 0.01360457856208086, 0.009295469149947166, 0.008811717852950096, -0.013969252817332745, 0.03643764555454254, 0.00516869779676199, -0.023562414571642876, -0.036050643771886826, -0.005094274412840605, 0.010984878055751324, 0.020734330639243126, -0.013969252817332745, 0.007769791875034571, 0.008655428886413574, 0.026316076517105103, -0.010463914833962917, -0.00398908881470561, -0.025765344500541687, 0.0016689423937350512, 0.03810472786426544, 0.02457457222044468, -0.023666607216000557, 0.0031388024799525738, -0.038610804826021194, -0.0008219122537411749, -0.00680228928104043, 0.015375852584838867, -0.0019312845543026924, 0.014013906009495258, 0.012808249332010746, -0.0023331702686846256, -0.007580012548714876, -0.01835278421640396, -0.03819403424859047, 0.02578022889792919, 0.012235189788043499, 0.012451017275452614, -0.020034750923514366, 0.004137935116887093, -0.0006888806237839162, 0.026122577488422394, 0.015465160831809044, -0.017162011936306953, 0.007658157031983137, 0.006772520020604134, -0.008886141702532768, -0.030781473964452744, 0.023086106404662132, -0.04164727404713631, -0.004882168024778366, -0.013827848248183727, -0.016134969890117645, 0.01248822920024395, 0.03316301852464676, -0.038342881947755814, 0.01368644367903471, -0.015189794823527336, 0.011327225714921951, 0.03480033203959465, 0.018308131024241447, -0.003071821527555585, -3.52347778971307e-05, 0.012785921804606915, 0.0024875986855477095, -0.003948155790567398, 0.014661389403045177, -0.02793850563466549, -0.031823400408029556, 0.010612761601805687, -0.006407845765352249, -0.024351302534341812, 0.019766828045248985, -0.0026476087514311075, 0.016730356961488724, 0.03087078221142292, 0.010940223932266235, -0.014594407752156258, -7.174870552262291e-05, 0.02071944624185562, 0.008164235390722752, 0.033817946910858154, -0.009682470932602882, -0.01784670539200306, 0.028414813801646233, -0.005953863728791475, 0.009436873719096184, -0.011490956880152225, -0.003062518546357751, -0.0279682744294405, -0.0336393304169178, -0.04236174002289772, 0.023517761379480362, -0.010322511196136475, 0.007163241971284151, 0.01005458738654852, 0.014765582047402859, 0.026390500366687775, 0.009265700355172157, 0.01053833868354559, 0.025735575705766678, 0.006407845765352249, 0.00990574061870575, -0.024529917165637016, -0.014706043526530266, 0.02484249509871006, -0.020659906789660454, -0.00708509748801589, 0.023309376090765, -0.011290013790130615, 0.012309612706303596, -0.02604815363883972, -0.01741505041718483, 0.0036932560615241528, -0.03587202727794647, -0.0011144888121634722, -0.006314816419035196, 0.02704542502760887, -0.00840983260422945, 0.0009851783979684114, 0.010687185451388359, 0.01082114689052105, 0.020272905007004738, 0.02586953714489937, -0.00582734402269125, -0.009801547974348068, -0.006984626408666372, 0.009027545340359211, -0.014676273800432682, -0.005142649635672569, -0.01170678436756134, -0.018203938379883766, -0.003252298105508089, -0.007740022614598274, 0.015189794823527336, -0.022803297266364098, -0.03682464733719826, 0.028950661420822144, -0.0030346098355948925, -0.018873747438192368, -0.026256538927555084, 0.028593430295586586, 0.00398908881470561, 0.06034240871667862, 0.007207896094769239, 0.008528909645974636, 0.042242661118507385, -0.04489213228225708, 0.0027852917555719614, -0.006024565547704697, 0.017474589869379997, -0.010806262493133545, 0.017936013638973236, 0.04087327420711517, 0.03819403424859047, -0.01466883160173893, 0.017295973375439644, 0.021493447944521904, 0.018873747438192368, -0.017370397225022316, 0.01005458738654852, 0.0067948466166853905, -0.04423720762133598, 0.017429934814572334, -0.01282313372939825, 0.01345573179423809, 0.020302675664424896, -0.0073493001982569695, -0.0297990869730711, -0.023502876982092857, -0.01297198049724102, 0.012793364003300667, 0.01585216261446476, -0.004149098880589008, 0.011520725674927235, -0.019930558279156685, 0.0016066129319369793, 0.003951876889914274, -0.010322511196136475, 0.017042934894561768, -0.020198483020067215, -0.020287789404392242, -0.008283312432467937, 0.002517367945984006, 7.738859858363867e-05, -0.01185563113540411, 0.019528672099113464, 0.01426694542169571, -0.012845460325479507, -0.006426451727747917, 0.016894087195396423, -0.00694369338452816, -0.019558442756533623, -0.00947408564388752, -0.024902034550905228, 0.02890600822865963, -0.000634458614513278, 0.012205420061945915, 0.00826098583638668, 0.011520725674927235, 0.009027545340359211, -0.03146616742014885, -0.017176896333694458, -0.007576291449368, -0.0006493432447314262, 0.030692167580127716, 0.016060547903180122, -0.032656941562891006, -0.05105438083410263, -0.007029280066490173, -0.04313574358820915, -0.032389018684625626, 0.008000504225492477, -0.01558423787355423, -0.011662130244076252, -0.019722172990441322, 0.02920370176434517, -0.014862331561744213, 0.015569353476166725, -0.020555714145302773, 0.009020103141665459, 0.031287554651498795, 0.00932523887604475, -0.023473108187317848, 0.02411314845085144, 0.02787896618247032, -0.013262230902910233, -0.02128506265580654, 0.012093785218894482, -0.0003246716223657131, 0.0179806686937809, -0.007583733648061752, 0.012503113597631454, 0.05054830014705658, 0.013515270315110683, 0.002859715139493346, 0.01614985428750515, -0.01757878251373768, 0.03843218833208084, 0.021493447944521904, -0.009965279139578342, -0.032150864601135254, 0.044773053377866745, 0.035782720893621445, -0.01291988417506218, 0.020406868308782578, -0.008454486727714539, -0.02857854589819908, 0.02508065104484558, 0.032656941562891006, 0.02650957740843296, 0.013440847396850586, 0.009771778248250484, -0.014199964702129364, -0.010776492767035961, 0.004554705694317818, 0.023755915462970734, -0.0028950662817806005, 0.015777738764882088, -0.004249569959938526, 0.03372863680124283, -0.018531400710344315, -0.0020987368188798428, -0.012458459474146366, 0.016313586384058, 0.00301414355635643, 0.00645994208753109, -0.010032259859144688, 0.0015163746429607272, 0.007379069924354553, 0.021061792969703674, 0.0050868322141468525, 0.014534869231283665, -0.004186310339719057, 0.01994544267654419, 0.009533624164760113, 0.0009335472132079303, -0.007807003799825907, -0.0037230253219604492, 0.03881919011473656, -0.01905236393213272, 0.0029694894328713417, -0.05471600592136383, 0.034681256860494614, 0.04286781698465347, -0.012197977863252163, -0.0005884091951884329, 0.006861827801913023, 0.0050793900154531, -0.023130759596824646, -0.017400166019797325, -0.0010028538526967168, 0.010225760750472546, 0.020496174693107605, -0.0032653221860527992, 0.03426448628306389, 0.005823622923344374, -0.007193011697381735, 0.004044906236231327, -0.00651203840970993, 0.0031332208309322596, -0.03206155449151993, 0.0199752114713192, -0.033252328634262085, -0.018888631835579872, 0.03509802743792534, 0.0001262870355276391, -0.04233197122812271, 0.026628654450178146, -0.01862070895731449, 0.022669335827231407, 0.011156052350997925, 0.016313586384058, 0.004149098880589008, -0.008022830821573734, -0.002846691058948636, -0.03557433560490608]', 'https://hive.com/blog/')\n"
     ]
    }
   ],
   "source": [
    "vals = [(df3['text_chunk'][i], df3['embeddings'][i], df3['url'][i]) for i in range(len(df3))]\n",
    "\n",
    "print(vals[0])"
   ]
  },
  {
   "cell_type": "code",
   "execution_count": 74,
   "metadata": {},
   "outputs": [
    {
     "name": "stdout",
     "output_type": "stream",
     "text": [
      "{'id': '0', 'values': '[0.02567603625357151, 0.027387771755456924, 0.026926347985863686, 0.0021080398000776768, 0.03343094512820244, -0.07418514043092728, -0.0027499408461153507, 0.05700824409723282, -0.02344333752989769, -0.006590182892978191, 0.06543295830488205, -0.03224017098546028, -0.0020261742174625397, 0.02174648642539978, 0.002292237477377057, 0.009213604032993317, -0.012927326373755932, -0.07085097581148148, -0.01072439644485712, 0.007985619828104973, -0.006839500740170479, 0.035187333822250366, -0.012555209919810295, 0.08954610675573349, -0.045279134064912796, 0.03867034241557121, -0.029486509039998055, 0.024128032848238945, -4.724134851130657e-05, -0.022490719333291054, -0.034353792667388916, -0.037420034408569336, 0.003008561674505472, -0.008022830821573734, 0.03414540737867355, 0.013336654752492905, -0.016611279919743538, 0.025348573923110962, 0.033550020307302475, 0.03420494496822357, -0.03426448628306389, -0.001588007085956633, 0.06769543141126633, 0.046410366892814636, -0.012384036555886269, 0.017534127458930016, -0.036586493253707886, -0.03286532685160637, 0.0168196652084589, 0.04772021621465683, -0.04516005516052246, -0.01000993326306343, -0.003473707241937518, 0.04903006553649902, -0.0054031312465667725, -0.030781473964452744, -0.011498399078845978, 0.011818419210612774, -0.03890850022435188, 0.03950388357043266, 0.04087327420711517, -0.035782720893621445, 0.030349818989634514, 0.06263464689254761, -0.054299235343933105, 0.00892335269600153, -0.033282097429037094, -0.005890603642910719, -0.0016931300051510334, -0.020868292078375816, 0.00904243066906929, 0.0685885101556778, -0.0067353080958127975, 0.00947408564388752, -0.030960090458393097, -0.060729410499334335, -0.06840988993644714, 0.03423471748828888, 0.004748206119984388, 0.0002240838948637247, -0.01248822920024395, 0.005693382117897272, 0.020272905007004738, -0.020153827965259552, -0.05197722837328911, -0.0019424479687586427, -0.005142649635672569, -0.01398413721472025, -0.06269418448209763, -0.006701817736029625, -0.029947934672236443, 0.06888620555400848, -0.018769554793834686, -0.007341857999563217, -0.015256775543093681, -0.003079263726249337, -0.018293246626853943, 0.03989088535308838, 0.01150584127753973, 0.04903006553649902, 0.03965273126959801, -0.028265967965126038, -0.032627172768116, 0.037479571998119354, 0.03560410439968109, -0.02255025878548622, 0.012852903455495834, 0.014601850882172585, 0.0179806686937809, -0.022148372605443, -0.14158287644386292, -0.07430421561002731, -0.03759864717721939, -0.008104696869850159, -0.027298465371131897, -0.009898298420011997, 0.04846445098519325, 0.009779221378266811, 0.02058548294007778, -0.013641789555549622, -0.02914416231215, 0.008268428035080433, 0.00605433527380228, -0.04638059809803963, 0.009801547974348068, -0.025735575705766678, -0.0071483575738966465, -0.02010917477309704, -0.021225523203611374, -0.04117096588015556, -0.014505100436508656, -0.0181443989276886, 0.05641285702586174, -0.04905983433127403, -0.015078159980475903, -0.01671547256410122, -0.001502420287579298, 0.024902034550905228, -0.03194247931241989, -0.023309376090765, 0.024366186931729317, -0.005016129929572344, -0.010084356181323528, -0.025750460103154182, -0.05441831424832344, -0.006009681150317192, -0.018561169505119324, -0.0012000756105408072, -0.02470853365957737, -0.024157801643013954, -0.02640538476407528, -0.022356757894158363, -0.018590938299894333, 0.023964300751686096, -0.0025471372064203024, -0.024782957509160042, 0.005280332639813423, 0.029025085270404816, -0.058794401586055756, 0.009861086495220661, -0.0016001008916646242, 0.02371126227080822, -0.04691644385457039, -0.0017749955877661705, -0.02837016060948372, -0.0053249867632985115, -0.014430676586925983, -0.03090055286884308, -0.057365477085113525, -0.029754433780908585, -0.04843468219041824, -0.06906481832265854, -0.00250992551445961, 0.027834312990307808, 0.035276640206575394, -0.032359249889850616, -0.013396193273365498, 0.00490449508652091, -0.021493447944521904, -0.006437615025788546, -0.03950388357043266, 0.021091561764478683, -0.0031853169202804565, -0.022267449647188187, -0.04968499019742012, -0.04837514087557793, -0.014706043526530266, -0.016804780811071396, -0.046440135687589645, 0.024902034550905228, 0.006422730162739754, 0.03444310277700424, -0.0027201713528484106, 0.03194247931241989, 0.032389018684625626, -0.02807246707379818, 0.011081628501415253, 0.008432159200310707, 0.0018782579572871327, -0.0021601361222565174, 0.044296745210886, -0.011081628501415253, 0.01792112924158573, 0.0030308887362480164, -0.0070516071282327175, 0.009935510344803333, 0.014832562766969204, 0.0261374618858099, -0.009831317700445652, -0.009838759899139404, 0.08668825775384903, -0.017697859555482864, 0.03483010083436966, 0.04066488891839981, -0.005023572593927383, -0.044773053377866745, -0.004599359817802906, 0.023904763162136078, 0.014348811469972134, 0.0204812902957201, -0.05048876255750656, 0.013827848248183727, -0.01398413721472025, 0.03503848612308502, -0.026569116860628128, 0.024336418136954308, -0.011833303608000278, -0.027164502069354057, -0.0003246716223657131, 0.04239150881767273, 0.051471151411533356, -0.01228728611022234, -0.03736049309372902, -0.04087327420711517, 0.045576825737953186, -0.0031053118873387575, 0.021835794672369957, -0.04688667505979538, 0.002178741851821542, -0.012101227417588234, -0.0004009554977528751, -0.022148372605443, 0.0004432837595231831, -0.003706280142068863, -0.020823637023568153, 0.019067248329520226, -0.023696377873420715, -0.01604566164314747, -0.0027369167655706406, 0.001811276888474822, 0.04831560328602791, -0.012071458622813225, 0.02710496447980404, 0.02487226575613022, 0.005741757340729237, -0.02653934620320797, 0.01881420984864235, 0.046142444014549255, 0.050637610256671906, -0.01388738676905632, 0.02045152150094509, 0.022803297266364098, -0.03706280142068863, 0.028682738542556763, -0.03116847574710846, 0.028399929404258728, -0.04075419530272484, 0.031079167500138283, -0.0006972532719373703, -0.03807495906949043, 0.004242127761244774, 0.07454237341880798, 0.04545774683356285, -0.04245104640722275, -0.029650241136550903, -0.02973954938352108, 0.008313082158565521, 0.022326989099383354, -0.03200201690196991, 0.05748455226421356, 0.006962299346923828, 0.02058548294007778, -0.011059301905333996, 0.022297218441963196, 0.05423969775438309, 0.04605313390493393, -0.024916918948292732, 0.04120073467493057, 0.024559687823057175, 0.01291988417506218, -0.019394710659980774, 0.03908711299300194, 0.02901020087301731, -0.032627172768116, -0.0008730783010832965, 0.027655696496367455, 0.027134733274579048, -9.535484423395246e-05, 0.009407104924321175, 0.014661389403045177, 0.0015573074342682958, -0.03905734419822693, 0.010903012938797474, -0.005905488505959511, 0.01884397864341736, -0.0033490483183413744, -0.023830339312553406, -0.0016847572987899184, -0.00743488734588027, 0.01438602339476347, 0.01079137809574604, 0.05182838439941406, -0.00029048341093584895, -0.023904763162136078, -0.035782720893621445, -0.02427687868475914, 0.025289036333560944, -0.060788948088884354, 0.024470379576086998, -0.04152819886803627, 0.006329701282083988, -0.0319722481071949, 0.007096261251717806, -0.05016130208969116, -0.006716702599078417, -0.01282313372939825, 0.05674032121896744, 0.004052348434925079, 0.03569341078400612, -0.032686710357666016, -0.043612051755189896, -0.0030569368973374367, 0.018025321885943413, 0.04679736867547035, 0.01475069671869278, -0.04721413925290108, 0.0005725942319259048, 0.030721936374902725, -0.00252294959500432, -0.03506825491786003, -0.060461483895778656, -0.03402633219957352, -0.07579268515110016, -0.029947934672236443, -0.013827848248183727, 0.026822155341506004, 0.0090721994638443, -0.0012679868377745152, 0.03402633219957352, 0.022460950538516045, -0.019960327073931694, 0.03753910958766937, -0.012235189788043499, -0.0055817472748458385, -0.03872988373041153, -0.04551728814840317, 0.003483010223135352, -0.017489474266767502, -0.018605824559926987, -0.01117093674838543, -0.02211860381066799, -0.011952381581068039, 0.015360968187451363, 0.02260979637503624, 0.01178864948451519, -0.0018801185069605708, -0.010173664428293705, -0.047035522758960724, 0.004982639569789171, -0.005507323890924454, 0.013373865745961666, -0.02171671763062477, 0.02634584717452526, -0.0336393304169178, -0.07073190063238144, 0.021463679149746895, 0.008647986687719822, 0.019603095948696136, 0.011974708177149296, 0.02653934620320797, 0.029456740245223045, -0.011386764235794544, 0.001265196013264358, -0.031555477529764175, -0.02071944624185562, 0.03959319368004799, -0.02761104330420494, -0.01778716780245304, -0.05632355064153671, -0.04658898338675499, 0.08639056235551834, 0.02543788217008114, -0.00016152180614881217, 0.0031908988021314144, 0.008268428035080433, -0.017191780731081963, 0.01033739559352398, 0.030989859253168106, 0.017072703689336777, 0.006139921955764294, -0.007073934189975262, -0.04352274164557457, -0.040545810014009476, -0.004353762604296207, 0.022952144965529442, -0.004108165856450796, -0.015658661723136902, 0.03584225848317146, 0.023934531956911087, -0.0017898802179843187, 0.011156052350997925, -0.02973954938352108, 0.04146866127848625, 0.012681729160249233, 0.015599122270941734, -0.0011944938451051712, -0.014430676586925983, 0.04914914444088936, 0.026956116780638695, 0.057692937552928925, -0.007866541855037212, -0.06954112648963928, 0.02683703973889351, 0.012882672250270844, -0.008566121570765972, 0.05269169434905052, 0.05209630727767944, -0.039414577186107635, -0.0036709289997816086, -0.03616972267627716, -0.04021834954619408, 0.004212358500808477, -0.007196732796728611, -0.04483259469270706, -0.01368644367903471, 0.01142397616058588, 0.004387253429740667, 0.026301192119717598, 0.0006432963418774307, 0.06087825447320938, 0.003607669146731496, -0.0023945695720613003, -0.030930321663618088, -0.049833837896585464, -0.028132004663348198, -0.00960804708302021, -0.010032259859144688, 0.011260244995355606, -0.03340117633342743, -0.06870758533477783, 0.010426703840494156, -0.02394941635429859, 0.04858352616429329, 0.04048627242445946, -0.03369886800646782, -0.036943722516298294, 0.017162011936306953, 0.014400907792150974, -0.01728108897805214, 0.04402882233262062, 0.009496412239968777, 0.015346083790063858, -0.03369886800646782, 0.040307655930519104, 0.009228488430380821, -0.00221037189476192, -0.01601589284837246, 0.003907222766429186, -0.029650241136550903, -0.009749451652169228, 0.012212862260639668, -0.017563898116350174, -0.015762854367494583, -0.02241629734635353, -0.02311587519943714, -0.003966761752963066, -0.010977435857057571, -0.015807507559657097, -0.014490215107798576, -0.05370384827256203, -0.03283555805683136, -0.033282097429037094, -0.04584474861621857, 0.04498143866658211, 0.03667579963803291, 0.009838759899139404, 0.011156052350997925, -0.025393228977918625, 0.03170432522892952, -0.01213843934237957, -0.01878443919122219, 0.02004963532090187, 0.031019629910588264, -0.017906244844198227, -0.0158223919570446, -0.05531139299273491, -0.029724663123488426, -0.06275372207164764, -0.004941707011312246, -0.002416896400973201, -0.001804764848202467, -0.003559294156730175, -0.0429571270942688, -0.01009179838001728, -0.010173664428293705, 0.025184843689203262, 0.0014782326761633158, -0.01398413721472025, 0.029248354956507683, -0.0036113904789090157, -0.025125304237008095, -0.006247835699468851, 0.01811463013291359, 0.04343343526124954, -0.03060285933315754, -0.009020103141665459, -0.0010679742554202676, 0.01604566164314747, 0.011877957731485367, -0.044475361704826355, -0.023309376090765, 0.02537834271788597, -0.032954633235931396, -0.018323015421628952, 0.005868277046829462, 0.0027313348837196827, -0.06418264657258987, -0.0001218681427417323, -0.03637810796499252, -0.011490956880152225, -0.013314327225089073, -0.02255025878548622, 0.007576291449368, -0.01754901371896267, -0.05950886756181717, -0.01233938243240118, -0.0003593249712139368, -0.021865563467144966, -0.03384771570563316, 0.021165985614061356, -0.018203938379883766, 0.00952618196606636, 0.01029274147003889, -0.0027294743340462446, -0.01558423787355423, 0.005697103217244148, -0.020525945350527763, 0.020228251814842224, 0.0016726636094972491, 0.02277352847158909, 0.022326989099383354, -0.01398413721472025, 0.0010391352698206902, -0.010553223080933094, -0.01848674565553665, 0.01784670539200306, 0.013366423547267914, 0.0029880953952670097, 0.0214785635471344, 0.045874517410993576, 0.032656941562891006, 0.021791141480207443, 0.033579789102077484, 0.0029880953952670097, -0.00269784452393651, 0.025690920650959015, -0.013976695016026497, -0.020272905007004738, -0.05182838439941406, 0.014884659089148045, 0.0186504777520895, -0.02001986652612686, -0.01193749625235796, -0.07847192138433456, 0.047005753964185715, 0.022654451429843903, -0.007047886028885841, 0.004402137827128172, 0.007099982351064682, 0.0028727392200380564, -0.01609031669795513, -0.02677750214934349, -0.02177625522017479, 0.0020187317859381437, -0.023056337609887123, 0.007888869382441044, -0.005745478440076113, 0.04489213228225708, -0.010917897336184978, 0.04075419530272484, 0.00927314255386591, -0.005083111114799976, 0.02417268604040146, -0.03992065414786339, 0.002709008054807782, -0.021895334124565125, -0.00034281230182386935, -0.001260544522665441, -0.008655428886413574, 0.022758644074201584, 0.015614007599651814, -0.013038961216807365, 0.0036690684501081705, -0.04858352616429329, -0.05665101110935211, 0.0060208444483578205, -0.019662635400891304, -0.0036355778574943542, 0.025899305939674377, -0.04968499019742012, 0.025988614186644554, -0.0051054381765425205, 0.018710017204284668, -0.05078645795583725, -0.02737288735806942, 0.012711498886346817, -0.00585339218378067, -0.0059426999650895596, 0.041974738240242004, 0.019662635400891304, 0.01641777902841568, -0.029486509039998055, 0.023502876982092857, 0.011647245846688747, -0.023651722818613052, 0.024187570437788963, -0.008737294934689999, -0.05885394290089607, -0.057663168758153915, 0.02101713791489601, 0.04545774683356285, 0.012584979645907879, 0.014624177478253841, -0.046440135687589645, 0.008960564620792866, 0.0074460506439208984, 0.0058199018239974976, 0.03137686103582382, -0.005953863728791475, -0.03256763517856598, 0.047243908047676086, 0.0068506645038723946, 0.016611279919743538, -0.028786931186914444, 0.039176423102617264, -0.012480787001550198, 0.012101227417588234, -0.013292000629007816, -0.002515507396310568, -0.008380062878131866, 0.002601094078272581, -0.03218063339591026, 0.04858352616429329, -0.0003939783200621605, 0.012778479605913162, -0.028980430215597153, -0.05504347011446953, -0.00947408564388752, 0.012904999777674675, 0.029620472341775894, 0.005749199539422989, 0.010374607518315315, -0.003970482852309942, 0.015130256302654743, 0.018710017204284668, 0.003235552692785859, -0.02643515355885029, 0.016224278137087822, -0.03057308867573738, 0.046410366892814636, -0.03736049309372902, 0.002893205499276519, 0.03200201690196991, -0.009369892999529839, -0.026033269241452217, -0.019662635400891304, -0.011498399078845978, -0.059657711535692215, 0.03715210780501366, 0.0027034261729568243, -0.01978171244263649, 0.025289036333560944, -0.019528672099113464, 0.012480787001550198, 0.04069465771317482, -0.013961809687316418, 0.03218063339591026, -0.011959823779761791, 0.043879974633455276, -0.02984374202787876, 0.005298938602209091, -0.023934531956911087, -0.014475330710411072, -0.045606594532728195, -0.020793868228793144, -0.030260512605309486, -0.004316551145166159, 0.010582992807030678, -0.0022550257854163647, 0.00826098583638668, -0.01038949191570282, 0.00840983260422945, -0.010858358815312386, -0.019796596840023994, 0.017504358664155006, -0.02314564399421215, -0.012592421844601631, 0.018308131024241447, 0.0479583702981472, 0.013612020760774612, -0.010002491064369678, -0.006980904843658209, -0.020525945350527763, -0.0010344837792217731, -0.008566121570765972, -0.0004158401570748538, -0.00785909965634346, -0.014214849099516869, 0.029263239353895187, 0.012175651267170906, -0.016894087195396423, -0.0001980357337743044, -0.018963055685162544, -0.0392954982817173, 0.009228488430380821, -0.037300955504179, -0.026866810396313667, -0.02857854589819908, -0.004606802016496658, 0.011520725674927235, -0.023517761379480362, -0.012525440193712711, 0.03423471748828888, -0.012830575928092003, 0.039682500064373016, 0.018040206283330917, -0.053614541888237, 0.028385045006871223, -0.0582883246243, -0.04652944579720497, -0.0039035018999129534, -0.012384036555886269, 0.008030273951590061, 0.056502167135477066, -0.02298191376030445, 0.007241386454552412, 0.01558423787355423, 0.04908960685133934, 0.012331940233707428, 0.021091561764478683, -0.016760125756263733, 0.015331198461353779, -0.03125778213143349, 0.002761104144155979, 0.00040700240060687065, -0.026450039818882942, -0.015063274651765823, -0.0021471120417118073, 0.012882672250270844, 0.023309376090765, 0.009317796677350998, 0.05697847530245781, 0.014564638957381248, -0.008618217892944813, 0.026851924136281013, -0.0034271928016096354, -0.0319722481071949, 0.03167455270886421, -0.006772520020604134, 0.0004216544912196696, -0.0018466280307620764, -0.016536856070160866, -0.021954871714115143, -0.03613995388150215, 0.04075419530272484, -0.004260733723640442, 0.009295469149947166, -0.0020987368188798428, -0.0017182477749884129, 0.006638558115810156, 0.011595149524509907, -0.0322997085750103, -0.02887623757123947, -0.00539568904787302, -0.020228251814842224, -0.05340615659952164, 0.024083377793431282, -0.011922611854970455, -0.02271398901939392, 0.02037709765136242, -0.019841250032186508, 0.02260979637503624, 0.02677750214934349, -0.024187570437788963, 0.01466883160173893, -0.014311599545180798, 0.024961574003100395, -0.06424219161272049, 0.022297218441963196, 0.02174648642539978, 0.008960564620792866, 0.024827610701322556, 0.04242127761244774, 0.04501120746135712, 0.0322997085750103, 0.019662635400891304, -0.027953390032052994, 0.061027102172374725, -0.04087327420711517, -0.001975938444957137, -0.025616498664021492, 0.05141161382198334, -0.002921114442870021, -0.013113384135067463, -0.013812963850796223, -0.03867034241557121, 0.02607792243361473, -0.01771274395287037, 0.006552970968186855, 0.01808486133813858, -0.007903753779828548, -0.0004314225516282022, -0.046975985169410706, -0.011297455988824368, 0.016998279839754105, 0.006783683318644762, -0.014988851733505726, -0.020764099434018135, -0.030424242839217186, -0.0392954982817173, -0.009221046231687069, -0.008551236242055893, 0.03340117633342743, -0.018888631835579872, 0.021002253517508507, 0.007807003799825907, 0.004599359817802906, -0.018010437488555908, -0.04188543185591698, 0.030513551086187363, 0.005726872477680445, -0.014415792189538479, 0.01388738676905632, 0.017906244844198227, -0.007680484093725681, 0.010456472635269165, -0.002766686026006937, -0.012800807133316994, -0.013277116231620312, 0.01005458738654852, -0.004621686413884163, -0.02511041983962059, 0.002835527528077364, -0.018456976860761642, -0.028012927621603012, 0.020972484722733498, 0.013433405198156834, -0.0007195802172645926, -0.004919379949569702, 0.017534127458930016, -0.0012140299659222364, -0.023636838421225548, 0.020659906789660454, -0.011297455988824368, 0.024902034550905228, -0.00855867937207222, 0.016194509342312813, 0.02637561596930027, 0.02460434101521969, 0.009630374610424042, 0.016134969890117645, 0.038848958909511566, -0.032150864601135254, 0.009496412239968777, 0.015346083790063858, 0.00485239876434207, -0.04858352616429329, 0.032954633235931396, -0.023800570517778397, -0.00990574061870575, 0.017028050497174263, -0.04143889248371124, 0.018397439271211624, 0.012413805350661278, -0.00967502873390913, 0.003414168721064925, -0.009429431520402431, 0.05754409357905388, 0.013165480457246304, -0.0038848959375172853, -0.019469134509563446, 0.005518487188965082, -0.0008033064659684896, -0.017057819291949272, 0.013277116231620312, 0.027953390032052994, -0.007948407903313637, -0.008901026099920273, -0.03020097315311432, 0.038878727704286575, 0.015777738764882088, -0.013269673101603985, -0.009771778248250484, 0.00605433527380228, -0.01571819931268692, 0.020258020609617233, 0.016507087275385857, 0.0026476087514311075, 0.0004686341853812337, 0.025899305939674377, -0.0019294238882139325, 0.0007702811271883547, 0.027715235948562622, -0.023621954023838043, -0.01033739559352398, -0.012986864894628525, -0.03200201690196991, 0.023220067843794823, -0.0016419639578089118, -0.051471151411533356, -0.005135207436978817, 0.00473704282194376, 0.0007605130667798221, 0.008186562918126583, 0.01692385785281658, -0.00043072481639683247, -0.013366423547267914, -0.028727391734719276, 0.04242127761244774, 0.02537834271788597, 0.01692385785281658, 0.00878939125686884, -0.009355008602142334, 0.012741267681121826, -0.01921609416604042, -0.027119848877191544, 0.02767058089375496, 0.006820894777774811, -0.024827610701322556, -0.012875230051577091, 0.007643272168934345, -8.249066354437673e-07, -0.01821882277727127, -0.009853644296526909, 0.035217102617025375, -0.03426448628306389, 0.03221040219068527, 0.002128506312146783, 0.0036932560615241528, -0.0040374635718762875, 0.03724141791462898, -0.006746471859514713, 0.026956116780638695, -0.01437113806605339, -0.021433908492326736, -0.01674524135887623, 0.027179386466741562, -0.0037341888528317213, 0.01595635525882244, 0.004145377315580845, 0.033520251512527466, -0.006352028343826532, 0.00037397706182673573, -0.03846195712685585, -0.012808249332010746, 0.028697622939944267, -0.0026941231917589903, -0.02430664747953415, -0.0038253574166446924, 0.021791141480207443, 0.008417274802923203, 0.008127023465931416, 0.07323252409696579, 0.001652197097428143, 0.015614007599651814, 0.016298701986670494, 0.02188044786453247, -0.023354029282927513, 0.0203175600618124, -0.017176896333694458, 0.014862331561744213, 0.014311599545180798, 0.009645259007811546, -0.01025553047657013, 0.0031183359678834677, 0.024023840203881264, -0.01628381758928299, 0.03283555805683136, 0.018561169505119324, 0.027224041521549225, -0.002617839490994811, -0.04245104640722275, -0.01612008549273014, 0.00771769555285573, -0.003166711190715432, -0.024961574003100395, 0.006445057224482298, -0.05352523550391197, 0.015673546120524406, 0.008327966555953026, -0.008767063729465008, 0.019320286810398102, 0.03509802743792534, -0.017772283405065536, -0.019141672179102898, -0.042004507035017014, 0.014549754559993744, -0.024157801643013954, 0.011580265127122402, -0.018873747438192368, 0.023264722898602486, -0.009570836089551449, 0.04188543185591698, -0.0035146400332450867, -0.013500385917723179, 0.03014143370091915, -0.021061792969703674, 0.03366909921169281, -0.007155799772590399, 0.00300111947581172, 0.006270162761211395, -0.029114393517374992, 0.02624165453016758, -0.027328234165906906, 0.010076913982629776, -0.010702069848775864, 0.02185067906975746, 0.01585216261446476, 0.0033490483183413744, 0.03483010083436966, 0.021686948835849762, 0.006084104534238577, 0.001104255672544241, -0.0029657683335244656, -0.00035211522481404245, -0.019528672099113464, -0.0203175600618124, 0.02554207481443882, 0.03447287157177925, -0.007643272168934345, -3.488592119538225e-05, -0.014966524206101894, -0.02037709765136242, 0.0074051180854439735, 0.009243372827768326, 0.004353762604296207, -0.025988614186644554, -0.01135699450969696, 0.034413330256938934, 0.027983158826828003, -0.011520725674927235, -0.013329212553799152, -0.01555446907877922, 0.05563885718584061, 0.019156556576490402, -0.01978171244263649, -0.015837276354432106, -0.0025471372064203024, -0.015018620528280735, 0.00850658304989338, -0.016313586384058, 0.0369734913110733, -0.02037709765136242, -0.006392960902303457, 0.020600367337465286, 0.009771778248250484, -0.011096512898802757, 0.018724901601672173, -0.008752179332077503, 0.004528657533228397, -0.0041528199799358845, -0.03756887838244438, 0.020302675664424896, -0.023309376090765, 0.03715210780501366, -0.005674776155501604, -0.027625927701592445, -0.010575550608336926, -0.007252550218254328, -0.016789894551038742, -0.0035648758057504892, 0.009995048865675926, 0.03724141791462898, 0.017072703689336777, 0.000415607588365674, 0.005656170193105936, 0.02610769122838974, -0.02804269827902317, 0.028652967885136604, 0.014095772057771683, 0.009883414022624493, -0.04102212190628052, 0.0028094793669879436, -0.026316076517105103, -0.030960090458393097, 0.006240393500775099, -0.0046105231158435345, 0.001196354511193931, 0.029784202575683594, 0.030022356659173965, -0.008685198612511158, 0.023086106404662132, -0.01811463013291359, 0.005845949985086918, -0.05031014606356621, 0.025854652747511864, -0.0034941737540066242, -0.010687185451388359, -0.007152078673243523, 0.020868292078375816, 0.011297455988824368, -0.0018763972911983728, -0.02018359676003456, 0.035276640206575394, 0.0070702130906283855, 0.00444679195061326, -0.008514025248587132, -0.02834038995206356, -0.010895570740103722, -0.019960327073931694, 0.03807495906949043, 0.0008498210227116942, -0.006761356256902218, 0.027328234165906906, -0.0038997805677354336, -0.02001986652612686, -0.008298197761178017, 0.022431181743741035, -0.0065752980299293995, 0.011342110112309456, -0.012897556647658348, -0.010649973526597023, -0.019275633618235588, -0.015480045229196548, 0.00855867937207222, 0.019394710659980774, -0.02131483145058155, 0.005708266515284777, -0.00041793330456130207, -0.008424717001616955, 0.035485025495290756, -0.01087324321269989, 0.01117093674838543, -0.023249836638569832, 8.802880620351061e-05, -0.0073083676397800446, -0.018829094246029854, 0.10383538156747818, -0.016343355178833008, -0.018442092463374138, -0.024931803345680237, 0.0336393304169178, -0.0027201713528484106, 0.04164727404713631, -0.02144879288971424, 0.00892335269600153, -0.018323015421628952, 0.008714967407286167, -0.04539820924401283, 0.006500874646008015, 0.027134733274579048, 0.03274625167250633, -0.01658150926232338, -0.014207406900823116, 0.00709254015237093, -0.01495163980871439, -0.021939987316727638, 0.008662871085107327, 0.009801547974348068, -0.010456472635269165, -0.002208511345088482, 0.028146890923380852, -0.013589693233370781, 0.016313586384058, -0.013582251034677029, 0.01520467922091484, 0.0027294743340462446, 0.01918632537126541, -0.023473108187317848, -0.014683715999126434, 0.002692262642085552, 0.014110656455159187, 0.0026401663199067116, 0.0031462449114769697, -0.008819160051643848, 0.002454108092933893, 0.005071947351098061, 0.00023222393065225333, -0.007018116768449545, -0.01935005746781826, -0.00990574061870575, 0.020793868228793144, 0.004137935116887093, -0.0032169469632208347, -0.009310354478657246, -0.0049454281106591225, -0.022862836718559265, -0.018442092463374138, 0.022967029362916946, 0.04179612174630165, 0.010121568106114864, 0.008253543637692928, -0.03304394334554672, -0.008729852735996246, 0.032656941562891006, 0.017727628350257874, -0.0022457230370491743, -0.016194509342312813, -0.008581005968153477, 0.01945425011217594, -0.010694627650082111, -0.023190299049019814, -0.010709512047469616, 0.031317323446273804, 0.041409119963645935, -0.0029973981436342, 0.00743488734588027, 0.007955850102007389, -0.00012872903607785702, 0.041379351168870926, 0.01360457856208086, 0.009295469149947166, 0.008811717852950096, -0.013969252817332745, 0.03643764555454254, 0.00516869779676199, -0.023562414571642876, -0.036050643771886826, -0.005094274412840605, 0.010984878055751324, 0.020734330639243126, -0.013969252817332745, 0.007769791875034571, 0.008655428886413574, 0.026316076517105103, -0.010463914833962917, -0.00398908881470561, -0.025765344500541687, 0.0016689423937350512, 0.03810472786426544, 0.02457457222044468, -0.023666607216000557, 0.0031388024799525738, -0.038610804826021194, -0.0008219122537411749, -0.00680228928104043, 0.015375852584838867, -0.0019312845543026924, 0.014013906009495258, 0.012808249332010746, -0.0023331702686846256, -0.007580012548714876, -0.01835278421640396, -0.03819403424859047, 0.02578022889792919, 0.012235189788043499, 0.012451017275452614, -0.020034750923514366, 0.004137935116887093, -0.0006888806237839162, 0.026122577488422394, 0.015465160831809044, -0.017162011936306953, 0.007658157031983137, 0.006772520020604134, -0.008886141702532768, -0.030781473964452744, 0.023086106404662132, -0.04164727404713631, -0.004882168024778366, -0.013827848248183727, -0.016134969890117645, 0.01248822920024395, 0.03316301852464676, -0.038342881947755814, 0.01368644367903471, -0.015189794823527336, 0.011327225714921951, 0.03480033203959465, 0.018308131024241447, -0.003071821527555585, -3.52347778971307e-05, 0.012785921804606915, 0.0024875986855477095, -0.003948155790567398, 0.014661389403045177, -0.02793850563466549, -0.031823400408029556, 0.010612761601805687, -0.006407845765352249, -0.024351302534341812, 0.019766828045248985, -0.0026476087514311075, 0.016730356961488724, 0.03087078221142292, 0.010940223932266235, -0.014594407752156258, -7.174870552262291e-05, 0.02071944624185562, 0.008164235390722752, 0.033817946910858154, -0.009682470932602882, -0.01784670539200306, 0.028414813801646233, -0.005953863728791475, 0.009436873719096184, -0.011490956880152225, -0.003062518546357751, -0.0279682744294405, -0.0336393304169178, -0.04236174002289772, 0.023517761379480362, -0.010322511196136475, 0.007163241971284151, 0.01005458738654852, 0.014765582047402859, 0.026390500366687775, 0.009265700355172157, 0.01053833868354559, 0.025735575705766678, 0.006407845765352249, 0.00990574061870575, -0.024529917165637016, -0.014706043526530266, 0.02484249509871006, -0.020659906789660454, -0.00708509748801589, 0.023309376090765, -0.011290013790130615, 0.012309612706303596, -0.02604815363883972, -0.01741505041718483, 0.0036932560615241528, -0.03587202727794647, -0.0011144888121634722, -0.006314816419035196, 0.02704542502760887, -0.00840983260422945, 0.0009851783979684114, 0.010687185451388359, 0.01082114689052105, 0.020272905007004738, 0.02586953714489937, -0.00582734402269125, -0.009801547974348068, -0.006984626408666372, 0.009027545340359211, -0.014676273800432682, -0.005142649635672569, -0.01170678436756134, -0.018203938379883766, -0.003252298105508089, -0.007740022614598274, 0.015189794823527336, -0.022803297266364098, -0.03682464733719826, 0.028950661420822144, -0.0030346098355948925, -0.018873747438192368, -0.026256538927555084, 0.028593430295586586, 0.00398908881470561, 0.06034240871667862, 0.007207896094769239, 0.008528909645974636, 0.042242661118507385, -0.04489213228225708, 0.0027852917555719614, -0.006024565547704697, 0.017474589869379997, -0.010806262493133545, 0.017936013638973236, 0.04087327420711517, 0.03819403424859047, -0.01466883160173893, 0.017295973375439644, 0.021493447944521904, 0.018873747438192368, -0.017370397225022316, 0.01005458738654852, 0.0067948466166853905, -0.04423720762133598, 0.017429934814572334, -0.01282313372939825, 0.01345573179423809, 0.020302675664424896, -0.0073493001982569695, -0.0297990869730711, -0.023502876982092857, -0.01297198049724102, 0.012793364003300667, 0.01585216261446476, -0.004149098880589008, 0.011520725674927235, -0.019930558279156685, 0.0016066129319369793, 0.003951876889914274, -0.010322511196136475, 0.017042934894561768, -0.020198483020067215, -0.020287789404392242, -0.008283312432467937, 0.002517367945984006, 7.738859858363867e-05, -0.01185563113540411, 0.019528672099113464, 0.01426694542169571, -0.012845460325479507, -0.006426451727747917, 0.016894087195396423, -0.00694369338452816, -0.019558442756533623, -0.00947408564388752, -0.024902034550905228, 0.02890600822865963, -0.000634458614513278, 0.012205420061945915, 0.00826098583638668, 0.011520725674927235, 0.009027545340359211, -0.03146616742014885, -0.017176896333694458, -0.007576291449368, -0.0006493432447314262, 0.030692167580127716, 0.016060547903180122, -0.032656941562891006, -0.05105438083410263, -0.007029280066490173, -0.04313574358820915, -0.032389018684625626, 0.008000504225492477, -0.01558423787355423, -0.011662130244076252, -0.019722172990441322, 0.02920370176434517, -0.014862331561744213, 0.015569353476166725, -0.020555714145302773, 0.009020103141665459, 0.031287554651498795, 0.00932523887604475, -0.023473108187317848, 0.02411314845085144, 0.02787896618247032, -0.013262230902910233, -0.02128506265580654, 0.012093785218894482, -0.0003246716223657131, 0.0179806686937809, -0.007583733648061752, 0.012503113597631454, 0.05054830014705658, 0.013515270315110683, 0.002859715139493346, 0.01614985428750515, -0.01757878251373768, 0.03843218833208084, 0.021493447944521904, -0.009965279139578342, -0.032150864601135254, 0.044773053377866745, 0.035782720893621445, -0.01291988417506218, 0.020406868308782578, -0.008454486727714539, -0.02857854589819908, 0.02508065104484558, 0.032656941562891006, 0.02650957740843296, 0.013440847396850586, 0.009771778248250484, -0.014199964702129364, -0.010776492767035961, 0.004554705694317818, 0.023755915462970734, -0.0028950662817806005, 0.015777738764882088, -0.004249569959938526, 0.03372863680124283, -0.018531400710344315, -0.0020987368188798428, -0.012458459474146366, 0.016313586384058, 0.00301414355635643, 0.00645994208753109, -0.010032259859144688, 0.0015163746429607272, 0.007379069924354553, 0.021061792969703674, 0.0050868322141468525, 0.014534869231283665, -0.004186310339719057, 0.01994544267654419, 0.009533624164760113, 0.0009335472132079303, -0.007807003799825907, -0.0037230253219604492, 0.03881919011473656, -0.01905236393213272, 0.0029694894328713417, -0.05471600592136383, 0.034681256860494614, 0.04286781698465347, -0.012197977863252163, -0.0005884091951884329, 0.006861827801913023, 0.0050793900154531, -0.023130759596824646, -0.017400166019797325, -0.0010028538526967168, 0.010225760750472546, 0.020496174693107605, -0.0032653221860527992, 0.03426448628306389, 0.005823622923344374, -0.007193011697381735, 0.004044906236231327, -0.00651203840970993, 0.0031332208309322596, -0.03206155449151993, 0.0199752114713192, -0.033252328634262085, -0.018888631835579872, 0.03509802743792534, 0.0001262870355276391, -0.04233197122812271, 0.026628654450178146, -0.01862070895731449, 0.022669335827231407, 0.011156052350997925, 0.016313586384058, 0.004149098880589008, -0.008022830821573734, -0.002846691058948636, -0.03557433560490608]', 'metadata': {'text': 'blog posts archive hive work all using hive project management how teams work in hive productivity remote and hybrid work protected how envision pharma group uses hive to organize multiple workflows this content is password protected to view it please enter your password below password you dont need more timeyou just need to decide seth godin the marketing guru prides himself on this quote having written more than blog posts a day and published social media analysts and strategists we get it the everchanging algorithms fleeting trends and shrinking attention spans can feel chaotic throw in occasional go viral requests from the csuite and i was recently in a meeting where someone offhandedly suggested we stop hiring writers and have chatgpt write all the content for us i immediately busted out in laughter thinking please check with my assistant a command once restricted to executives and highranking managers is now available to anyone with an internet connection thanks to artificial intelligence dreaming of worklife the power of artificial intelligence ai tools in the workplace cant be understated from streamlining processes and increasing productivity to enhancing decisionmaking and customer service ai tools are revolutionizing the', 'url': 'https://hive.com/blog/'}}\n"
     ]
    }
   ],
   "source": [
    "import pandas as pd\n",
    "\n",
    "# Read the dataset\n",
    "df = pd.read_csv('text_with_embeddings.csv')\n",
    "\n",
    "# Create a list to store the JSON objects\n",
    "json_data = []\n",
    "\n",
    "# Iterate over the rows of the DataFrame\n",
    "for ind, row in df.iterrows():\n",
    "    # Construct the JSON object\n",
    "    json_obj = {\n",
    "        \"id\": str(row['Unnamed: 0']),  # Convert to string if needed\n",
    "        \"values\": row['embeddings'],   # Assuming 'embeddings' column already contains the list of values\n",
    "        \"metadata\": {\n",
    "            \"text\": row['text_chunk'],  # 'text_chunk' column as 'text' in metadata\n",
    "            \"url\": row['url']           # 'url' column as 'url' in metadata\n",
    "        }\n",
    "    }\n",
    "    # Append the JSON object to the list\n",
    "    json_data.append(json_obj)\n",
    "\n",
    "# Output the JSON data\n",
    "print(json_data[0])"
   ]
  },
  {
   "cell_type": "code",
   "execution_count": null,
   "metadata": {},
   "outputs": [],
   "source": [
    "{'id': '0', 'values': '[0.02567603625357151, 0.027387771755456924, 0.026926347985863686, 0.0021080398000776768, 0.03343094512820244, -0.07418514043092728, -0.0027499408461153507, 0.05700824409723282, -0.02344333752989769, -0.006590182892978191, 0.06543295830488205, -0.03224017098546028, -0.0020261742174625397, 0.02174648642539978, 0.002292237477377057, 0.009213604032993317, -0.012927326373755932, -0.07085097581148148, -0.01072439644485712, 0.007985619828104973, -0.006839500740170479, 0.035187333822250366, -0.012555209919810295, 0.08954610675573349, -0.045279134064912796, 0.03867034241557121, -0.029486509039998055, 0.024128032848238945, -4.724134851130657e-05, -0.022490719333291054, -0.034353792667388916, -0.037420034408569336, 0.003008561674505472, -0.008022830821573734, 0.03414540737867355, 0.013336654752492905, -0.016611279919743538, 0.025348573923110962, 0.033550020307302475, 0.03420494496822357, -0.03426448628306389, -0.001588007085956633, 0.06769543141126633, 0.046410366892814636, -0.012384036555886269, 0.017534127458930016, -0.036586493253707886, -0.03286532685160637, 0.0168196652084589, 0.04772021621465683, -0.04516005516052246, -0.01000993326306343, -0.003473707241937518, 0.04903006553649902, -0.0054031312465667725, -0.030781473964452744, -0.011498399078845978, 0.011818419210612774, -0.03890850022435188, 0.03950388357043266, 0.04087327420711517, -0.035782720893621445, 0.030349818989634514, 0.06263464689254761, -0.054299235343933105, 0.00892335269600153, -0.033282097429037094, -0.005890603642910719, -0.0016931300051510334, -0.020868292078375816, 0.00904243066906929, 0.0685885101556778, -0.0067353080958127975, 0.00947408564388752, -0.030960090458393097, -0.060729410499334335, -0.06840988993644714, 0.03423471748828888, 0.004748206119984388, 0.0002240838948637247, -0.01248822920024395, 0.005693382117897272, 0.020272905007004738, -0.020153827965259552, -0.05197722837328911, -0.0019424479687586427, -0.005142649635672569, -0.01398413721472025, -0.06269418448209763, -0.006701817736029625, -0.029947934672236443, 0.06888620555400848, -0.018769554793834686, -0.007341857999563217, -0.015256775543093681, -0.003079263726249337, -0.018293246626853943, 0.03989088535308838, 0.01150584127753973, 0.04903006553649902, 0.03965273126959801, -0.028265967965126038, -0.032627172768116, 0.037479571998119354, 0.03560410439968109, -0.02255025878548622, 0.012852903455495834, 0.014601850882172585, 0.0179806686937809, -0.022148372605443, -0.14158287644386292, -0.07430421561002731, -0.03759864717721939, -0.008104696869850159, -0.027298465371131897, -0.009898298420011997, 0.04846445098519325, 0.009779221378266811, 0.02058548294007778, -0.013641789555549622, -0.02914416231215, 0.008268428035080433, 0.00605433527380228, -0.04638059809803963, 0.009801547974348068, -0.025735575705766678, -0.0071483575738966465, -0.02010917477309704, -0.021225523203611374, -0.04117096588015556, -0.014505100436508656, -0.0181443989276886, 0.05641285702586174, -0.04905983433127403, -0.015078159980475903, -0.01671547256410122, -0.001502420287579298, 0.024902034550905228, -0.03194247931241989, -0.023309376090765, 0.024366186931729317, -0.005016129929572344, -0.010084356181323528, -0.025750460103154182, -0.05441831424832344, -0.006009681150317192, -0.018561169505119324, -0.0012000756105408072, -0.02470853365957737, -0.024157801643013954, -0.02640538476407528, -0.022356757894158363, -0.018590938299894333, 0.023964300751686096, -0.0025471372064203024, -0.024782957509160042, 0.005280332639813423, 0.029025085270404816, -0.058794401586055756, 0.009861086495220661, -0.0016001008916646242, 0.02371126227080822, -0.04691644385457039, -0.0017749955877661705, -0.02837016060948372, -0.0053249867632985115, -0.014430676586925983, -0.03090055286884308, -0.057365477085113525, -0.029754433780908585, -0.04843468219041824, -0.06906481832265854, -0.00250992551445961, 0.027834312990307808, 0.035276640206575394, -0.032359249889850616, -0.013396193273365498, 0.00490449508652091, -0.021493447944521904, -0.006437615025788546, -0.03950388357043266, 0.021091561764478683, -0.0031853169202804565, -0.022267449647188187, -0.04968499019742012, -0.04837514087557793, -0.014706043526530266, -0.016804780811071396, -0.046440135687589645, 0.024902034550905228, 0.006422730162739754, 0.03444310277700424, -0.0027201713528484106, 0.03194247931241989, 0.032389018684625626, -0.02807246707379818, 0.011081628501415253, 0.008432159200310707, 0.0018782579572871327, -0.0021601361222565174, 0.044296745210886, -0.011081628501415253, 0.01792112924158573, 0.0030308887362480164, -0.0070516071282327175, 0.009935510344803333, 0.014832562766969204, 0.0261374618858099, -0.009831317700445652, -0.009838759899139404, 0.08668825775384903, -0.017697859555482864, 0.03483010083436966, 0.04066488891839981, -0.005023572593927383, -0.044773053377866745, -0.004599359817802906, 0.023904763162136078, 0.014348811469972134, 0.0204812902957201, -0.05048876255750656, 0.013827848248183727, -0.01398413721472025, 0.03503848612308502, -0.026569116860628128, 0.024336418136954308, -0.011833303608000278, -0.027164502069354057, -0.0003246716223657131, 0.04239150881767273, 0.051471151411533356, -0.01228728611022234, -0.03736049309372902, -0.04087327420711517, 0.045576825737953186, -0.0031053118873387575, 0.021835794672369957, -0.04688667505979538, 0.002178741851821542, -0.012101227417588234, -0.0004009554977528751, -0.022148372605443, 0.0004432837595231831, -0.003706280142068863, -0.020823637023568153, 0.019067248329520226, -0.023696377873420715, -0.01604566164314747, -0.0027369167655706406, 0.001811276888474822, 0.04831560328602791, -0.012071458622813225, 0.02710496447980404, 0.02487226575613022, 0.005741757340729237, -0.02653934620320797, 0.01881420984864235, 0.046142444014549255, 0.050637610256671906, -0.01388738676905632, 0.02045152150094509, 0.022803297266364098, -0.03706280142068863, 0.028682738542556763, -0.03116847574710846, 0.028399929404258728, -0.04075419530272484, 0.031079167500138283, -0.0006972532719373703, -0.03807495906949043, 0.004242127761244774, 0.07454237341880798, 0.04545774683356285, -0.04245104640722275, -0.029650241136550903, -0.02973954938352108, 0.008313082158565521, 0.022326989099383354, -0.03200201690196991, 0.05748455226421356, 0.006962299346923828, 0.02058548294007778, -0.011059301905333996, 0.022297218441963196, 0.05423969775438309, 0.04605313390493393, -0.024916918948292732, 0.04120073467493057, 0.024559687823057175, 0.01291988417506218, -0.019394710659980774, 0.03908711299300194, 0.02901020087301731, -0.032627172768116, -0.0008730783010832965, 0.027655696496367455, 0.027134733274579048, -9.535484423395246e-05, 0.009407104924321175, 0.014661389403045177, 0.0015573074342682958, -0.03905734419822693, 0.010903012938797474, -0.005905488505959511, 0.01884397864341736, -0.0033490483183413744, -0.023830339312553406, -0.0016847572987899184, -0.00743488734588027, 0.01438602339476347, 0.01079137809574604, 0.05182838439941406, -0.00029048341093584895, -0.023904763162136078, -0.035782720893621445, -0.02427687868475914, 0.025289036333560944, -0.060788948088884354, 0.024470379576086998, -0.04152819886803627, 0.006329701282083988, -0.0319722481071949, 0.007096261251717806, -0.05016130208969116, -0.006716702599078417, -0.01282313372939825, 0.05674032121896744, 0.004052348434925079, 0.03569341078400612, -0.032686710357666016, -0.043612051755189896, -0.0030569368973374367, 0.018025321885943413, 0.04679736867547035, 0.01475069671869278, -0.04721413925290108, 0.0005725942319259048, 0.030721936374902725, -0.00252294959500432, -0.03506825491786003, -0.060461483895778656, -0.03402633219957352, -0.07579268515110016, -0.029947934672236443, -0.013827848248183727, 0.026822155341506004, 0.0090721994638443, -0.0012679868377745152, 0.03402633219957352, 0.022460950538516045, -0.019960327073931694, 0.03753910958766937, -0.012235189788043499, -0.0055817472748458385, -0.03872988373041153, -0.04551728814840317, 0.003483010223135352, -0.017489474266767502, -0.018605824559926987, -0.01117093674838543, -0.02211860381066799, -0.011952381581068039, 0.015360968187451363, 0.02260979637503624, 0.01178864948451519, -0.0018801185069605708, -0.010173664428293705, -0.047035522758960724, 0.004982639569789171, -0.005507323890924454, 0.013373865745961666, -0.02171671763062477, 0.02634584717452526, -0.0336393304169178, -0.07073190063238144, 0.021463679149746895, 0.008647986687719822, 0.019603095948696136, 0.011974708177149296, 0.02653934620320797, 0.029456740245223045, -0.011386764235794544, 0.001265196013264358, -0.031555477529764175, -0.02071944624185562, 0.03959319368004799, -0.02761104330420494, -0.01778716780245304, -0.05632355064153671, -0.04658898338675499, 0.08639056235551834, 0.02543788217008114, -0.00016152180614881217, 0.0031908988021314144, 0.008268428035080433, -0.017191780731081963, 0.01033739559352398, 0.030989859253168106, 0.017072703689336777, 0.006139921955764294, -0.007073934189975262, -0.04352274164557457, -0.040545810014009476, -0.004353762604296207, 0.022952144965529442, -0.004108165856450796, -0.015658661723136902, 0.03584225848317146, 0.023934531956911087, -0.0017898802179843187, 0.011156052350997925, -0.02973954938352108, 0.04146866127848625, 0.012681729160249233, 0.015599122270941734, -0.0011944938451051712, -0.014430676586925983, 0.04914914444088936, 0.026956116780638695, 0.057692937552928925, -0.007866541855037212, -0.06954112648963928, 0.02683703973889351, 0.012882672250270844, -0.008566121570765972, 0.05269169434905052, 0.05209630727767944, -0.039414577186107635, -0.0036709289997816086, -0.03616972267627716, -0.04021834954619408, 0.004212358500808477, -0.007196732796728611, -0.04483259469270706, -0.01368644367903471, 0.01142397616058588, 0.004387253429740667, 0.026301192119717598, 0.0006432963418774307, 0.06087825447320938, 0.003607669146731496, -0.0023945695720613003, -0.030930321663618088, -0.049833837896585464, -0.028132004663348198, -0.00960804708302021, -0.010032259859144688, 0.011260244995355606, -0.03340117633342743, -0.06870758533477783, 0.010426703840494156, -0.02394941635429859, 0.04858352616429329, 0.04048627242445946, -0.03369886800646782, -0.036943722516298294, 0.017162011936306953, 0.014400907792150974, -0.01728108897805214, 0.04402882233262062, 0.009496412239968777, 0.015346083790063858, -0.03369886800646782, 0.040307655930519104, 0.009228488430380821, -0.00221037189476192, -0.01601589284837246, 0.003907222766429186, -0.029650241136550903, -0.009749451652169228, 0.012212862260639668, -0.017563898116350174, -0.015762854367494583, -0.02241629734635353, -0.02311587519943714, -0.003966761752963066, -0.010977435857057571, -0.015807507559657097, -0.014490215107798576, -0.05370384827256203, -0.03283555805683136, -0.033282097429037094, -0.04584474861621857, 0.04498143866658211, 0.03667579963803291, 0.009838759899139404, 0.011156052350997925, -0.025393228977918625, 0.03170432522892952, -0.01213843934237957, -0.01878443919122219, 0.02004963532090187, 0.031019629910588264, -0.017906244844198227, -0.0158223919570446, -0.05531139299273491, -0.029724663123488426, -0.06275372207164764, -0.004941707011312246, -0.002416896400973201, -0.001804764848202467, -0.003559294156730175, -0.0429571270942688, -0.01009179838001728, -0.010173664428293705, 0.025184843689203262, 0.0014782326761633158, -0.01398413721472025, 0.029248354956507683, -0.0036113904789090157, -0.025125304237008095, -0.006247835699468851, 0.01811463013291359, 0.04343343526124954, -0.03060285933315754, -0.009020103141665459, -0.0010679742554202676, 0.01604566164314747, 0.011877957731485367, -0.044475361704826355, -0.023309376090765, 0.02537834271788597, -0.032954633235931396, -0.018323015421628952, 0.005868277046829462, 0.0027313348837196827, -0.06418264657258987, -0.0001218681427417323, -0.03637810796499252, -0.011490956880152225, -0.013314327225089073, -0.02255025878548622, 0.007576291449368, -0.01754901371896267, -0.05950886756181717, -0.01233938243240118, -0.0003593249712139368, -0.021865563467144966, -0.03384771570563316, 0.021165985614061356, -0.018203938379883766, 0.00952618196606636, 0.01029274147003889, -0.0027294743340462446, -0.01558423787355423, 0.005697103217244148, -0.020525945350527763, 0.020228251814842224, 0.0016726636094972491, 0.02277352847158909, 0.022326989099383354, -0.01398413721472025, 0.0010391352698206902, -0.010553223080933094, -0.01848674565553665, 0.01784670539200306, 0.013366423547267914, 0.0029880953952670097, 0.0214785635471344, 0.045874517410993576, 0.032656941562891006, 0.021791141480207443, 0.033579789102077484, 0.0029880953952670097, -0.00269784452393651, 0.025690920650959015, -0.013976695016026497, -0.020272905007004738, -0.05182838439941406, 0.014884659089148045, 0.0186504777520895, -0.02001986652612686, -0.01193749625235796, -0.07847192138433456, 0.047005753964185715, 0.022654451429843903, -0.007047886028885841, 0.004402137827128172, 0.007099982351064682, 0.0028727392200380564, -0.01609031669795513, -0.02677750214934349, -0.02177625522017479, 0.0020187317859381437, -0.023056337609887123, 0.007888869382441044, -0.005745478440076113, 0.04489213228225708, -0.010917897336184978, 0.04075419530272484, 0.00927314255386591, -0.005083111114799976, 0.02417268604040146, -0.03992065414786339, 0.002709008054807782, -0.021895334124565125, -0.00034281230182386935, -0.001260544522665441, -0.008655428886413574, 0.022758644074201584, 0.015614007599651814, -0.013038961216807365, 0.0036690684501081705, -0.04858352616429329, -0.05665101110935211, 0.0060208444483578205, -0.019662635400891304, -0.0036355778574943542, 0.025899305939674377, -0.04968499019742012, 0.025988614186644554, -0.0051054381765425205, 0.018710017204284668, -0.05078645795583725, -0.02737288735806942, 0.012711498886346817, -0.00585339218378067, -0.0059426999650895596, 0.041974738240242004, 0.019662635400891304, 0.01641777902841568, -0.029486509039998055, 0.023502876982092857, 0.011647245846688747, -0.023651722818613052, 0.024187570437788963, -0.008737294934689999, -0.05885394290089607, -0.057663168758153915, 0.02101713791489601, 0.04545774683356285, 0.012584979645907879, 0.014624177478253841, -0.046440135687589645, 0.008960564620792866, 0.0074460506439208984, 0.0058199018239974976, 0.03137686103582382, -0.005953863728791475, -0.03256763517856598, 0.047243908047676086, 0.0068506645038723946, 0.016611279919743538, -0.028786931186914444, 0.039176423102617264, -0.012480787001550198, 0.012101227417588234, -0.013292000629007816, -0.002515507396310568, -0.008380062878131866, 0.002601094078272581, -0.03218063339591026, 0.04858352616429329, -0.0003939783200621605, 0.012778479605913162, -0.028980430215597153, -0.05504347011446953, -0.00947408564388752, 0.012904999777674675, 0.029620472341775894, 0.005749199539422989, 0.010374607518315315, -0.003970482852309942, 0.015130256302654743, 0.018710017204284668, 0.003235552692785859, -0.02643515355885029, 0.016224278137087822, -0.03057308867573738, 0.046410366892814636, -0.03736049309372902, 0.002893205499276519, 0.03200201690196991, -0.009369892999529839, -0.026033269241452217, -0.019662635400891304, -0.011498399078845978, -0.059657711535692215, 0.03715210780501366, 0.0027034261729568243, -0.01978171244263649, 0.025289036333560944, -0.019528672099113464, 0.012480787001550198, 0.04069465771317482, -0.013961809687316418, 0.03218063339591026, -0.011959823779761791, 0.043879974633455276, -0.02984374202787876, 0.005298938602209091, -0.023934531956911087, -0.014475330710411072, -0.045606594532728195, -0.020793868228793144, -0.030260512605309486, -0.004316551145166159, 0.010582992807030678, -0.0022550257854163647, 0.00826098583638668, -0.01038949191570282, 0.00840983260422945, -0.010858358815312386, -0.019796596840023994, 0.017504358664155006, -0.02314564399421215, -0.012592421844601631, 0.018308131024241447, 0.0479583702981472, 0.013612020760774612, -0.010002491064369678, -0.006980904843658209, -0.020525945350527763, -0.0010344837792217731, -0.008566121570765972, -0.0004158401570748538, -0.00785909965634346, -0.014214849099516869, 0.029263239353895187, 0.012175651267170906, -0.016894087195396423, -0.0001980357337743044, -0.018963055685162544, -0.0392954982817173, 0.009228488430380821, -0.037300955504179, -0.026866810396313667, -0.02857854589819908, -0.004606802016496658, 0.011520725674927235, -0.023517761379480362, -0.012525440193712711, 0.03423471748828888, -0.012830575928092003, 0.039682500064373016, 0.018040206283330917, -0.053614541888237, 0.028385045006871223, -0.0582883246243, -0.04652944579720497, -0.0039035018999129534, -0.012384036555886269, 0.008030273951590061, 0.056502167135477066, -0.02298191376030445, 0.007241386454552412, 0.01558423787355423, 0.04908960685133934, 0.012331940233707428, 0.021091561764478683, -0.016760125756263733, 0.015331198461353779, -0.03125778213143349, 0.002761104144155979, 0.00040700240060687065, -0.026450039818882942, -0.015063274651765823, -0.0021471120417118073, 0.012882672250270844, 0.023309376090765, 0.009317796677350998, 0.05697847530245781, 0.014564638957381248, -0.008618217892944813, 0.026851924136281013, -0.0034271928016096354, -0.0319722481071949, 0.03167455270886421, -0.006772520020604134, 0.0004216544912196696, -0.0018466280307620764, -0.016536856070160866, -0.021954871714115143, -0.03613995388150215, 0.04075419530272484, -0.004260733723640442, 0.009295469149947166, -0.0020987368188798428, -0.0017182477749884129, 0.006638558115810156, 0.011595149524509907, -0.0322997085750103, -0.02887623757123947, -0.00539568904787302, -0.020228251814842224, -0.05340615659952164, 0.024083377793431282, -0.011922611854970455, -0.02271398901939392, 0.02037709765136242, -0.019841250032186508, 0.02260979637503624, 0.02677750214934349, -0.024187570437788963, 0.01466883160173893, -0.014311599545180798, 0.024961574003100395, -0.06424219161272049, 0.022297218441963196, 0.02174648642539978, 0.008960564620792866, 0.024827610701322556, 0.04242127761244774, 0.04501120746135712, 0.0322997085750103, 0.019662635400891304, -0.027953390032052994, 0.061027102172374725, -0.04087327420711517, -0.001975938444957137, -0.025616498664021492, 0.05141161382198334, -0.002921114442870021, -0.013113384135067463, -0.013812963850796223, -0.03867034241557121, 0.02607792243361473, -0.01771274395287037, 0.006552970968186855, 0.01808486133813858, -0.007903753779828548, -0.0004314225516282022, -0.046975985169410706, -0.011297455988824368, 0.016998279839754105, 0.006783683318644762, -0.014988851733505726, -0.020764099434018135, -0.030424242839217186, -0.0392954982817173, -0.009221046231687069, -0.008551236242055893, 0.03340117633342743, -0.018888631835579872, 0.021002253517508507, 0.007807003799825907, 0.004599359817802906, -0.018010437488555908, -0.04188543185591698, 0.030513551086187363, 0.005726872477680445, -0.014415792189538479, 0.01388738676905632, 0.017906244844198227, -0.007680484093725681, 0.010456472635269165, -0.002766686026006937, -0.012800807133316994, -0.013277116231620312, 0.01005458738654852, -0.004621686413884163, -0.02511041983962059, 0.002835527528077364, -0.018456976860761642, -0.028012927621603012, 0.020972484722733498, 0.013433405198156834, -0.0007195802172645926, -0.004919379949569702, 0.017534127458930016, -0.0012140299659222364, -0.023636838421225548, 0.020659906789660454, -0.011297455988824368, 0.024902034550905228, -0.00855867937207222, 0.016194509342312813, 0.02637561596930027, 0.02460434101521969, 0.009630374610424042, 0.016134969890117645, 0.038848958909511566, -0.032150864601135254, 0.009496412239968777, 0.015346083790063858, 0.00485239876434207, -0.04858352616429329, 0.032954633235931396, -0.023800570517778397, -0.00990574061870575, 0.017028050497174263, -0.04143889248371124, 0.018397439271211624, 0.012413805350661278, -0.00967502873390913, 0.003414168721064925, -0.009429431520402431, 0.05754409357905388, 0.013165480457246304, -0.0038848959375172853, -0.019469134509563446, 0.005518487188965082, -0.0008033064659684896, -0.017057819291949272, 0.013277116231620312, 0.027953390032052994, -0.007948407903313637, -0.008901026099920273, -0.03020097315311432, 0.038878727704286575, 0.015777738764882088, -0.013269673101603985, -0.009771778248250484, 0.00605433527380228, -0.01571819931268692, 0.020258020609617233, 0.016507087275385857, 0.0026476087514311075, 0.0004686341853812337, 0.025899305939674377, -0.0019294238882139325, 0.0007702811271883547, 0.027715235948562622, -0.023621954023838043, -0.01033739559352398, -0.012986864894628525, -0.03200201690196991, 0.023220067843794823, -0.0016419639578089118, -0.051471151411533356, -0.005135207436978817, 0.00473704282194376, 0.0007605130667798221, 0.008186562918126583, 0.01692385785281658, -0.00043072481639683247, -0.013366423547267914, -0.028727391734719276, 0.04242127761244774, 0.02537834271788597, 0.01692385785281658, 0.00878939125686884, -0.009355008602142334, 0.012741267681121826, -0.01921609416604042, -0.027119848877191544, 0.02767058089375496, 0.006820894777774811, -0.024827610701322556, -0.012875230051577091, 0.007643272168934345, -8.249066354437673e-07, -0.01821882277727127, -0.009853644296526909, 0.035217102617025375, -0.03426448628306389, 0.03221040219068527, 0.002128506312146783, 0.0036932560615241528, -0.0040374635718762875, 0.03724141791462898, -0.006746471859514713, 0.026956116780638695, -0.01437113806605339, -0.021433908492326736, -0.01674524135887623, 0.027179386466741562, -0.0037341888528317213, 0.01595635525882244, 0.004145377315580845, 0.033520251512527466, -0.006352028343826532, 0.00037397706182673573, -0.03846195712685585, -0.012808249332010746, 0.028697622939944267, -0.0026941231917589903, -0.02430664747953415, -0.0038253574166446924, 0.021791141480207443, 0.008417274802923203, 0.008127023465931416, 0.07323252409696579, 0.001652197097428143, 0.015614007599651814, 0.016298701986670494, 0.02188044786453247, -0.023354029282927513, 0.0203175600618124, -0.017176896333694458, 0.014862331561744213, 0.014311599545180798, 0.009645259007811546, -0.01025553047657013, 0.0031183359678834677, 0.024023840203881264, -0.01628381758928299, 0.03283555805683136, 0.018561169505119324, 0.027224041521549225, -0.002617839490994811, -0.04245104640722275, -0.01612008549273014, 0.00771769555285573, -0.003166711190715432, -0.024961574003100395, 0.006445057224482298, -0.05352523550391197, 0.015673546120524406, 0.008327966555953026, -0.008767063729465008, 0.019320286810398102, 0.03509802743792534, -0.017772283405065536, -0.019141672179102898, -0.042004507035017014, 0.014549754559993744, -0.024157801643013954, 0.011580265127122402, -0.018873747438192368, 0.023264722898602486, -0.009570836089551449, 0.04188543185591698, -0.0035146400332450867, -0.013500385917723179, 0.03014143370091915, -0.021061792969703674, 0.03366909921169281, -0.007155799772590399, 0.00300111947581172, 0.006270162761211395, -0.029114393517374992, 0.02624165453016758, -0.027328234165906906, 0.010076913982629776, -0.010702069848775864, 0.02185067906975746, 0.01585216261446476, 0.0033490483183413744, 0.03483010083436966, 0.021686948835849762, 0.006084104534238577, 0.001104255672544241, -0.0029657683335244656, -0.00035211522481404245, -0.019528672099113464, -0.0203175600618124, 0.02554207481443882, 0.03447287157177925, -0.007643272168934345, -3.488592119538225e-05, -0.014966524206101894, -0.02037709765136242, 0.0074051180854439735, 0.009243372827768326, 0.004353762604296207, -0.025988614186644554, -0.01135699450969696, 0.034413330256938934, 0.027983158826828003, -0.011520725674927235, -0.013329212553799152, -0.01555446907877922, 0.05563885718584061, 0.019156556576490402, -0.01978171244263649, -0.015837276354432106, -0.0025471372064203024, -0.015018620528280735, 0.00850658304989338, -0.016313586384058, 0.0369734913110733, -0.02037709765136242, -0.006392960902303457, 0.020600367337465286, 0.009771778248250484, -0.011096512898802757, 0.018724901601672173, -0.008752179332077503, 0.004528657533228397, -0.0041528199799358845, -0.03756887838244438, 0.020302675664424896, -0.023309376090765, 0.03715210780501366, -0.005674776155501604, -0.027625927701592445, -0.010575550608336926, -0.007252550218254328, -0.016789894551038742, -0.0035648758057504892, 0.009995048865675926, 0.03724141791462898, 0.017072703689336777, 0.000415607588365674, 0.005656170193105936, 0.02610769122838974, -0.02804269827902317, 0.028652967885136604, 0.014095772057771683, 0.009883414022624493, -0.04102212190628052, 0.0028094793669879436, -0.026316076517105103, -0.030960090458393097, 0.006240393500775099, -0.0046105231158435345, 0.001196354511193931, 0.029784202575683594, 0.030022356659173965, -0.008685198612511158, 0.023086106404662132, -0.01811463013291359, 0.005845949985086918, -0.05031014606356621, 0.025854652747511864, -0.0034941737540066242, -0.010687185451388359, -0.007152078673243523, 0.020868292078375816, 0.011297455988824368, -0.0018763972911983728, -0.02018359676003456, 0.035276640206575394, 0.0070702130906283855, 0.00444679195061326, -0.008514025248587132, -0.02834038995206356, -0.010895570740103722, -0.019960327073931694, 0.03807495906949043, 0.0008498210227116942, -0.006761356256902218, 0.027328234165906906, -0.0038997805677354336, -0.02001986652612686, -0.008298197761178017, 0.022431181743741035, -0.0065752980299293995, 0.011342110112309456, -0.012897556647658348, -0.010649973526597023, -0.019275633618235588, -0.015480045229196548, 0.00855867937207222, 0.019394710659980774, -0.02131483145058155, 0.005708266515284777, -0.00041793330456130207, -0.008424717001616955, 0.035485025495290756, -0.01087324321269989, 0.01117093674838543, -0.023249836638569832, 8.802880620351061e-05, -0.0073083676397800446, -0.018829094246029854, 0.10383538156747818, -0.016343355178833008, -0.018442092463374138, -0.024931803345680237, 0.0336393304169178, -0.0027201713528484106, 0.04164727404713631, -0.02144879288971424, 0.00892335269600153, -0.018323015421628952, 0.008714967407286167, -0.04539820924401283, 0.006500874646008015, 0.027134733274579048, 0.03274625167250633, -0.01658150926232338, -0.014207406900823116, 0.00709254015237093, -0.01495163980871439, -0.021939987316727638, 0.008662871085107327, 0.009801547974348068, -0.010456472635269165, -0.002208511345088482, 0.028146890923380852, -0.013589693233370781, 0.016313586384058, -0.013582251034677029, 0.01520467922091484, 0.0027294743340462446, 0.01918632537126541, -0.023473108187317848, -0.014683715999126434, 0.002692262642085552, 0.014110656455159187, 0.0026401663199067116, 0.0031462449114769697, -0.008819160051643848, 0.002454108092933893, 0.005071947351098061, 0.00023222393065225333, -0.007018116768449545, -0.01935005746781826, -0.00990574061870575, 0.020793868228793144, 0.004137935116887093, -0.0032169469632208347, -0.009310354478657246, -0.0049454281106591225, -0.022862836718559265, -0.018442092463374138, 0.022967029362916946, 0.04179612174630165, 0.010121568106114864, 0.008253543637692928, -0.03304394334554672, -0.008729852735996246, 0.032656941562891006, 0.017727628350257874, -0.0022457230370491743, -0.016194509342312813, -0.008581005968153477, 0.01945425011217594, -0.010694627650082111, -0.023190299049019814, -0.010709512047469616, 0.031317323446273804, 0.041409119963645935, -0.0029973981436342, 0.00743488734588027, 0.007955850102007389, -0.00012872903607785702, 0.041379351168870926, 0.01360457856208086, 0.009295469149947166, 0.008811717852950096, -0.013969252817332745, 0.03643764555454254, 0.00516869779676199, -0.023562414571642876, -0.036050643771886826, -0.005094274412840605, 0.010984878055751324, 0.020734330639243126, -0.013969252817332745, 0.007769791875034571, 0.008655428886413574, 0.026316076517105103, -0.010463914833962917, -0.00398908881470561, -0.025765344500541687, 0.0016689423937350512, 0.03810472786426544, 0.02457457222044468, -0.023666607216000557, 0.0031388024799525738, -0.038610804826021194, -0.0008219122537411749, -0.00680228928104043, 0.015375852584838867, -0.0019312845543026924, 0.014013906009495258, 0.012808249332010746, -0.0023331702686846256, -0.007580012548714876, -0.01835278421640396, -0.03819403424859047, 0.02578022889792919, 0.012235189788043499, 0.012451017275452614, -0.020034750923514366, 0.004137935116887093, -0.0006888806237839162, 0.026122577488422394, 0.015465160831809044, -0.017162011936306953, 0.007658157031983137, 0.006772520020604134, -0.008886141702532768, -0.030781473964452744, 0.023086106404662132, -0.04164727404713631, -0.004882168024778366, -0.013827848248183727, -0.016134969890117645, 0.01248822920024395, 0.03316301852464676, -0.038342881947755814, 0.01368644367903471, -0.015189794823527336, 0.011327225714921951, 0.03480033203959465, 0.018308131024241447, -0.003071821527555585, -3.52347778971307e-05, 0.012785921804606915, 0.0024875986855477095, -0.003948155790567398, 0.014661389403045177, -0.02793850563466549, -0.031823400408029556, 0.010612761601805687, -0.006407845765352249, -0.024351302534341812, 0.019766828045248985, -0.0026476087514311075, 0.016730356961488724, 0.03087078221142292, 0.010940223932266235, -0.014594407752156258, -7.174870552262291e-05, 0.02071944624185562, 0.008164235390722752, 0.033817946910858154, -0.009682470932602882, -0.01784670539200306, 0.028414813801646233, -0.005953863728791475, 0.009436873719096184, -0.011490956880152225, -0.003062518546357751, -0.0279682744294405, -0.0336393304169178, -0.04236174002289772, 0.023517761379480362, -0.010322511196136475, 0.007163241971284151, 0.01005458738654852, 0.014765582047402859, 0.026390500366687775, 0.009265700355172157, 0.01053833868354559, 0.025735575705766678, 0.006407845765352249, 0.00990574061870575, -0.024529917165637016, -0.014706043526530266, 0.02484249509871006, -0.020659906789660454, -0.00708509748801589, 0.023309376090765, -0.011290013790130615, 0.012309612706303596, -0.02604815363883972, -0.01741505041718483, 0.0036932560615241528, -0.03587202727794647, -0.0011144888121634722, -0.006314816419035196, 0.02704542502760887, -0.00840983260422945, 0.0009851783979684114, 0.010687185451388359, 0.01082114689052105, 0.020272905007004738, 0.02586953714489937, -0.00582734402269125, -0.009801547974348068, -0.006984626408666372, 0.009027545340359211, -0.014676273800432682, -0.005142649635672569, -0.01170678436756134, -0.018203938379883766, -0.003252298105508089, -0.007740022614598274, 0.015189794823527336, -0.022803297266364098, -0.03682464733719826, 0.028950661420822144, -0.0030346098355948925, -0.018873747438192368, -0.026256538927555084, 0.028593430295586586, 0.00398908881470561, 0.06034240871667862, 0.007207896094769239, 0.008528909645974636, 0.042242661118507385, -0.04489213228225708, 0.0027852917555719614, -0.006024565547704697, 0.017474589869379997, -0.010806262493133545, 0.017936013638973236, 0.04087327420711517, 0.03819403424859047, -0.01466883160173893, 0.017295973375439644, 0.021493447944521904, 0.018873747438192368, -0.017370397225022316, 0.01005458738654852, 0.0067948466166853905, -0.04423720762133598, 0.017429934814572334, -0.01282313372939825, 0.01345573179423809, 0.020302675664424896, -0.0073493001982569695, -0.0297990869730711, -0.023502876982092857, -0.01297198049724102, 0.012793364003300667, 0.01585216261446476, -0.004149098880589008, 0.011520725674927235, -0.019930558279156685, 0.0016066129319369793, 0.003951876889914274, -0.010322511196136475, 0.017042934894561768, -0.020198483020067215, -0.020287789404392242, -0.008283312432467937, 0.002517367945984006, 7.738859858363867e-05, -0.01185563113540411, 0.019528672099113464, 0.01426694542169571, -0.012845460325479507, -0.006426451727747917, 0.016894087195396423, -0.00694369338452816, -0.019558442756533623, -0.00947408564388752, -0.024902034550905228, 0.02890600822865963, -0.000634458614513278, 0.012205420061945915, 0.00826098583638668, 0.011520725674927235, 0.009027545340359211, -0.03146616742014885, -0.017176896333694458, -0.007576291449368, -0.0006493432447314262, 0.030692167580127716, 0.016060547903180122, -0.032656941562891006, -0.05105438083410263, -0.007029280066490173, -0.04313574358820915, -0.032389018684625626, 0.008000504225492477, -0.01558423787355423, -0.011662130244076252, -0.019722172990441322, 0.02920370176434517, -0.014862331561744213, 0.015569353476166725, -0.020555714145302773, 0.009020103141665459, 0.031287554651498795, 0.00932523887604475, -0.023473108187317848, 0.02411314845085144, 0.02787896618247032, -0.013262230902910233, -0.02128506265580654, 0.012093785218894482, -0.0003246716223657131, 0.0179806686937809, -0.007583733648061752, 0.012503113597631454, 0.05054830014705658, 0.013515270315110683, 0.002859715139493346, 0.01614985428750515, -0.01757878251373768, 0.03843218833208084, 0.021493447944521904, -0.009965279139578342, -0.032150864601135254, 0.044773053377866745, 0.035782720893621445, -0.01291988417506218, 0.020406868308782578, -0.008454486727714539, -0.02857854589819908, 0.02508065104484558, 0.032656941562891006, 0.02650957740843296, 0.013440847396850586, 0.009771778248250484, -0.014199964702129364, -0.010776492767035961, 0.004554705694317818, 0.023755915462970734, -0.0028950662817806005, 0.015777738764882088, -0.004249569959938526, 0.03372863680124283, -0.018531400710344315, -0.0020987368188798428, -0.012458459474146366, 0.016313586384058, 0.00301414355635643, 0.00645994208753109, -0.010032259859144688, 0.0015163746429607272, 0.007379069924354553, 0.021061792969703674, 0.0050868322141468525, 0.014534869231283665, -0.004186310339719057, 0.01994544267654419, 0.009533624164760113, 0.0009335472132079303, -0.007807003799825907, -0.0037230253219604492, 0.03881919011473656, -0.01905236393213272, 0.0029694894328713417, -0.05471600592136383, 0.034681256860494614, 0.04286781698465347, -0.012197977863252163, -0.0005884091951884329, 0.006861827801913023, 0.0050793900154531, -0.023130759596824646, -0.017400166019797325, -0.0010028538526967168, 0.010225760750472546, 0.020496174693107605, -0.0032653221860527992, 0.03426448628306389, 0.005823622923344374, -0.007193011697381735, 0.004044906236231327, -0.00651203840970993, 0.0031332208309322596, -0.03206155449151993, 0.0199752114713192, -0.033252328634262085, -0.018888631835579872, 0.03509802743792534, 0.0001262870355276391, -0.04233197122812271, 0.026628654450178146, -0.01862070895731449, 0.022669335827231407, 0.011156052350997925, 0.016313586384058, 0.004149098880589008, -0.008022830821573734, -0.002846691058948636, -0.03557433560490608]', 'metadata': {'text': 'blog posts archive hive work all using hive project management how teams work in hive productivity remote and hybrid work protected how envision pharma group uses hive to organize multiple workflows this content is password protected to view it please enter your password below password you dont need more timeyou just need to decide seth godin the marketing guru prides himself on this quote having written more than blog posts a day and published social media analysts and strategists we get it the everchanging algorithms fleeting trends and shrinking attention spans can feel chaotic throw in occasional go viral requests from the csuite and i was recently in a meeting where someone offhandedly suggested we stop hiring writers and have chatgpt write all the content for us i immediately busted out in laughter thinking please check with my assistant a command once restricted to executives and highranking managers is now available to anyone with an internet connection thanks to artificial intelligence dreaming of worklife the power of artificial intelligence ai tools in the workplace cant be understated from streamlining processes and increasing productivity to enhancing decisionmaking and customer service ai tools are revolutionizing the', 'url': 'https://hive.com/blog/'"
   ]
  },
  {
   "cell_type": "code",
   "execution_count": null,
   "metadata": {},
   "outputs": [],
   "source": [
    "{'id': '0', 'values': '[0.02567603625357151, 0.027387771755456924, 0.026926347985863686, 0.0021080398000776768, 0.03343094512820244, -0.07418514043092728, -0.0027499408461153507, 0.05700824409723282, -0.02344333752989769, -0.006590182892978191, 0.06543295830488205, -0.03224017098546028, -0.0020261742174625397, 0.02174648642539978,"
   ]
  },
  {
   "cell_type": "code",
   "execution_count": 3,
   "metadata": {},
   "outputs": [
    {
     "ename": "ModuleNotFoundError",
     "evalue": "No module named 'src'",
     "output_type": "error",
     "traceback": [
      "\u001b[0;31m---------------------------------------------------------------------------\u001b[0m",
      "\u001b[0;31mModuleNotFoundError\u001b[0m                       Traceback (most recent call last)",
      "Cell \u001b[0;32mIn[3], line 3\u001b[0m\n\u001b[1;32m      1\u001b[0m text \u001b[38;5;241m=\u001b[39m \u001b[38;5;124m'\u001b[39m\u001b[38;5;124m where can i use artifcial intelligence\u001b[39m\u001b[38;5;124m'\u001b[39m\n\u001b[0;32m----> 3\u001b[0m \u001b[38;5;28;01mfrom\u001b[39;00m \u001b[38;5;21;01msrc\u001b[39;00m\u001b[38;5;21;01m.\u001b[39;00m\u001b[38;5;21;01membedding_pipeline\u001b[39;00m \u001b[38;5;28;01mimport\u001b[39;00m get_embedding\n\u001b[1;32m      5\u001b[0m get_embedding(text)\n",
      "\u001b[0;31mModuleNotFoundError\u001b[0m: No module named 'src'"
     ]
    }
   ],
   "source": [
    "text = ' where can i use artifcial intelligence'\n",
    "\n",
    "from src.embedding_pipeline import get_embedding\n",
    "\n",
    "get_embedding(text)\n"
   ]
  },
  {
   "cell_type": "code",
   "execution_count": null,
   "metadata": {},
   "outputs": [],
   "source": [
    "query_results1 = index.query(\n",
    "    namespace=\"\",\n",
    "    vector=[1.0, 1.5],\n",
    "    top_k=3,\n",
    "    include_values=True\n",
    ")\n",
    "\n",
    "print(query_results1)"
   ]
  },
  {
   "cell_type": "code",
   "execution_count": 6,
   "metadata": {},
   "outputs": [
    {
     "name": "stdout",
     "output_type": "stream",
     "text": [
      "Score: 0.546439171\n",
      "Text: best ai assistant apps for work productivity in please check with my assistant a command once restricted to executives and highranking managers is now available to anyone with an internet connection thanks to artificial intelligence dreaming of worklife balance an ai assistant might be the answer at home ai assistants can help you with day to day tasks such as making you coffee or doing groceries at work virtual ai agents can set up meetings organize calendars and even complete repetitive tasks by using natural language processing and large language models these aipowered assistants are revolutionizing the way we live and disrupting industries at georgia university an ai teaching assistant boosted college students success and researchers at stanford have created an algorithm that can review xrays to detect pathologies in just a few seconds ai can help free up your day for what matters handling emails meetings and boring tasks ready to hire your personal ai assistant in this article well cover everything you need to know about virtual ai assistants so you can choose the best one for your needs how to choose an ai assistant here are the topics and questions you need to consider when searching for an aipowered assistant voice activation can you just talk to your ai virtual assistant to get things done or do you need to be typing things out speech recognition is a key feature to look for in a smart agent you want to be able to ask it to do things when you have your hands full like when playing with your kids or driving integrations will this assistant connect with the apps you already use or will you have a tech war on your hands look for the integration capabilities of your smart agent to ensure it matches with your tech stack otherwise how would you ask it to play cowboy carter on spotify or to send a vacation notice email on gmail user friendly interface is figuring out this assistant easier than learning a new social media dance there might be a learning curve when settingup your ai personal assistant but nothing that takes too much of your time always aim for a userfriendly interface skills capabilities to handle tasks can your intelligent ai actually tackle your todo list when shopping for a personal virtual assistant you definitely want to make sure it will be doing the work for you and not the other way around verify how many steps you need to take to set it to handle tasks for you to ensure productivity accuracy and reliability will this assistant mess up less than your autocorrect avoid frustration by looking for a smart virtual assistant thats dependable but remember they too can make mistakes assess how much risk you are willing to take data security and privacy does this virtual assistant keep your info safe or is it out open like a forgotten social media post ensure your data will be kept safe and private by your...\n",
      "URL: https://hive.com/blog/best-ai-assistant/\n",
      "\n"
     ]
    }
   ],
   "source": [
    "# Sample query result from Pinecone\n",
    "query_result = {\n",
    "    'matches': [\n",
    "        {\n",
    "            'id': '15',\n",
    "            'metadata': {\n",
    "                'text': 'best ai assistant apps for work productivity in please check with my assistant a command once restricted to executives and highranking managers is now available to anyone with an internet connection thanks to artificial intelligence dreaming of worklife balance an ai assistant might be the answer at home ai assistants can help you with day to day tasks such as making you coffee or doing groceries at work virtual ai agents can set up meetings organize calendars and even complete repetitive tasks by using natural language processing and large language models these aipowered assistants are revolutionizing the way we live and disrupting industries at georgia university an ai teaching assistant boosted college students success and researchers at stanford have created an algorithm that can review xrays to detect pathologies in just a few seconds ai can help free up your day for what matters handling emails meetings and boring tasks ready to hire your personal ai assistant in this article well cover everything you need to know about virtual ai assistants so you can choose the best one for your needs how to choose an ai assistant here are the topics and questions you need to consider when searching for an aipowered assistant voice activation can you just talk to your ai virtual assistant to get things done or do you need to be typing things out speech recognition is a key feature to look for in a smart agent you want to be able to ask it to do things when you have your hands full like when playing with your kids or driving integrations will this assistant connect with the apps you already use or will you have a tech war on your hands look for the integration capabilities of your smart agent to ensure it matches with your tech stack otherwise how would you ask it to play cowboy carter on spotify or to send a vacation notice email on gmail user friendly interface is figuring out this assistant easier than learning a new social media dance there might be a learning curve when settingup your ai personal assistant but nothing that takes too much of your time always aim for a userfriendly interface skills capabilities to handle tasks can your intelligent ai actually tackle your todo list when shopping for a personal virtual assistant you definitely want to make sure it will be doing the work for you and not the other way around verify how many steps you need to take to set it to handle tasks for you to ensure productivity accuracy and reliability will this assistant mess up less than your autocorrect avoid frustration by looking for a smart virtual assistant thats dependable but remember they too can make mistakes assess how much risk you are willing to take data security and privacy does this virtual assistant keep your info safe or is it out open like a forgotten social media post ensure your data will be kept safe and private by your',\n",
    "                'url': 'https://hive.com/blog/best-ai-assistant/'\n",
    "            },\n",
    "            'score': 0.546439171,\n",
    "            'values': []\n",
    "        }\n",
    "    ],\n",
    "    'namespace': 'ada',\n",
    "    'usage': {'read_units': 6}\n",
    "}\n",
    "\n",
    "# Function to parse and display the results\n",
    "def parse_query_results(query_result):\n",
    "    matches = query_result.get('matches', [])\n",
    "    \n",
    "    for match in matches:\n",
    "        score = match.get('score', 'N/A')\n",
    "        text = match.get('metadata', {}).get('text', '')\n",
    "        url = match.get('metadata', {}).get('url', 'N/A')\n",
    "        \n",
    "        # Extract the first two words from the text\n",
    "        #first_two_words = ' '.join(text.split('')[:2])\n",
    "        \n",
    "        # Print the formatted result\n",
    "        print(f\"Score: {score}\")\n",
    "        print(f\"Text: {text}...\")\n",
    "        print(f\"URL: {url}\\n\")\n",
    "\n",
    "# Call the function to display results\n",
    "parse_query_results(query_result)\n"
   ]
  }
 ],
 "metadata": {
  "kernelspec": {
   "display_name": "Python 3",
   "language": "python",
   "name": "python3"
  },
  "language_info": {
   "codemirror_mode": {
    "name": "ipython",
    "version": 3
   },
   "file_extension": ".py",
   "mimetype": "text/x-python",
   "name": "python",
   "nbconvert_exporter": "python",
   "pygments_lexer": "ipython3",
   "version": "3.12.3"
  }
 },
 "nbformat": 4,
 "nbformat_minor": 2
}
